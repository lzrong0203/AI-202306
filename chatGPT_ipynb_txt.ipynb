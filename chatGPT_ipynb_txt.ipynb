{
  "cells": [
    {
      "cell_type": "markdown",
      "id": "a3c59825",
      "metadata": {
        "id": "a3c59825"
      },
      "source": [
        "## OpenAI 環境設定\n",
        "\n",
        "- 註冊 OpenAI 帳號\n",
        "- 設定 api_key"
      ]
    },
    {
      "cell_type": "code",
      "source": [
        "!pip install openai"
      ],
      "metadata": {
        "colab": {
          "base_uri": "https://localhost:8080/"
        },
        "id": "V1YRAZuP93Ee",
        "outputId": "e6985912-1574-472c-a6fe-3ab180335859"
      },
      "id": "V1YRAZuP93Ee",
      "execution_count": 1,
      "outputs": [
        {
          "output_type": "stream",
          "name": "stdout",
          "text": [
            "Looking in indexes: https://pypi.org/simple, https://us-python.pkg.dev/colab-wheels/public/simple/\n",
            "Collecting openai\n",
            "  Downloading openai-0.27.8-py3-none-any.whl (73 kB)\n",
            "\u001b[2K     \u001b[90m━━━━━━━━━━━━━━━━━━━━━━━━━━━━━━━━━━━━━━━━\u001b[0m \u001b[32m73.6/73.6 kB\u001b[0m \u001b[31m4.3 MB/s\u001b[0m eta \u001b[36m0:00:00\u001b[0m\n",
            "\u001b[?25hRequirement already satisfied: requests>=2.20 in /usr/local/lib/python3.10/dist-packages (from openai) (2.27.1)\n",
            "Requirement already satisfied: tqdm in /usr/local/lib/python3.10/dist-packages (from openai) (4.65.0)\n",
            "Requirement already satisfied: aiohttp in /usr/local/lib/python3.10/dist-packages (from openai) (3.8.4)\n",
            "Requirement already satisfied: urllib3<1.27,>=1.21.1 in /usr/local/lib/python3.10/dist-packages (from requests>=2.20->openai) (1.26.16)\n",
            "Requirement already satisfied: certifi>=2017.4.17 in /usr/local/lib/python3.10/dist-packages (from requests>=2.20->openai) (2023.5.7)\n",
            "Requirement already satisfied: charset-normalizer~=2.0.0 in /usr/local/lib/python3.10/dist-packages (from requests>=2.20->openai) (2.0.12)\n",
            "Requirement already satisfied: idna<4,>=2.5 in /usr/local/lib/python3.10/dist-packages (from requests>=2.20->openai) (3.4)\n",
            "Requirement already satisfied: attrs>=17.3.0 in /usr/local/lib/python3.10/dist-packages (from aiohttp->openai) (23.1.0)\n",
            "Requirement already satisfied: multidict<7.0,>=4.5 in /usr/local/lib/python3.10/dist-packages (from aiohttp->openai) (6.0.4)\n",
            "Requirement already satisfied: async-timeout<5.0,>=4.0.0a3 in /usr/local/lib/python3.10/dist-packages (from aiohttp->openai) (4.0.2)\n",
            "Requirement already satisfied: yarl<2.0,>=1.0 in /usr/local/lib/python3.10/dist-packages (from aiohttp->openai) (1.9.2)\n",
            "Requirement already satisfied: frozenlist>=1.1.1 in /usr/local/lib/python3.10/dist-packages (from aiohttp->openai) (1.3.3)\n",
            "Requirement already satisfied: aiosignal>=1.1.2 in /usr/local/lib/python3.10/dist-packages (from aiohttp->openai) (1.3.1)\n",
            "Installing collected packages: openai\n",
            "Successfully installed openai-0.27.8\n"
          ]
        }
      ]
    },
    {
      "cell_type": "code",
      "execution_count": 2,
      "id": "466a4a60",
      "metadata": {
        "id": "466a4a60"
      },
      "outputs": [],
      "source": [
        "import os\n",
        "import openai\n",
        "\n",
        "# openai.api_key = os.getenv(\"OPENAI_API_KEY\")\n",
        "openai.api_key = \"sk-...f\"\n"
      ]
    },
    {
      "cell_type": "markdown",
      "id": "1be9270d",
      "metadata": {
        "id": "1be9270d"
      },
      "source": [
        "### GPT3\n",
        "\n",
        "- 如需要較完整或是較長回覆，需要設定max_tokens"
      ]
    },
    {
      "cell_type": "code",
      "execution_count": 5,
      "id": "c89d4e31",
      "metadata": {
        "id": "c89d4e31",
        "colab": {
          "base_uri": "https://localhost:8080/"
        },
        "outputId": "e09a0f68-8b6c-47de-b61b-ea95441e9b1b"
      },
      "outputs": [
        {
          "output_type": "stream",
          "name": "stdout",
          "text": [
            " Lan（Langerancio的Eshelbi Bresso主廚與Vloraimo Italo Lam Laeillet Esfortob Egotto管委會同\n"
          ]
        }
      ],
      "source": [
        "prompt = \"哈囉你好，我是Steve\"\n",
        "response = openai.Completion.create(\n",
        "  model=\"text-davinci-003\",\n",
        "  prompt=f\"{prompt}\",\n",
        "  max_tokens=256,  # default: 16\n",
        "  temperature = 2\n",
        ")\n",
        "print(response[\"choices\"][0][\"text\"])"
      ]
    },
    {
      "cell_type": "code",
      "source": [
        "response"
      ],
      "metadata": {
        "colab": {
          "base_uri": "https://localhost:8080/"
        },
        "id": "gcyemIknSUmI",
        "outputId": "28787473-3441-460d-b394-65140660a5be"
      },
      "id": "gcyemIknSUmI",
      "execution_count": 4,
      "outputs": [
        {
          "output_type": "execute_result",
          "data": {
            "text/plain": [
              "<OpenAIObject text_completion id=cmpl-7VxLOpbfNrtevO7ACDA2CBU1JGF7p at 0x7f8469ccd850> JSON: {\n",
              "  \"id\": \"cmpl-7VxLOpbfNrtevO7ACDA2CBU1JGF7p\",\n",
              "  \"object\": \"text_completion\",\n",
              "  \"created\": 1687850642,\n",
              "  \"model\": \"text-davinci-003\",\n",
              "  \"choices\": [\n",
              "    {\n",
              "      \"text\": \"\\uff0c\\u5f88\\u9ad8\\u8208\\u898b\\u5230\\u4f60\\uff01\\n\\n\\u54c8\\u56c9\\uff0cSteve\\uff0c\\u5f88\\u9ad8\\u8208\\u898b\\u5230\\u4f60\\uff01\",\n",
              "      \"index\": 0,\n",
              "      \"logprobs\": null,\n",
              "      \"finish_reason\": \"stop\"\n",
              "    }\n",
              "  ],\n",
              "  \"usage\": {\n",
              "    \"prompt_tokens\": 16,\n",
              "    \"completion_tokens\": 47,\n",
              "    \"total_tokens\": 63\n",
              "  }\n",
              "}"
            ]
          },
          "metadata": {},
          "execution_count": 4
        }
      ]
    },
    {
      "cell_type": "markdown",
      "id": "c0086135",
      "metadata": {
        "id": "c0086135"
      },
      "source": [
        "### GPT-3.5\n",
        "\n",
        "- 需要給 messages\n",
        "\n",
        "<code>role: 為不同角色，user 為使用者，system 為跟系統說明目的為何，assistant 為聊天機器人對象\n",
        "<code>content: 為訊息內容\n",
        "- temperature 為結果確定性（是否有創造力）"
      ]
    },
    {
      "cell_type": "code",
      "execution_count": 8,
      "id": "3390791e",
      "metadata": {
        "colab": {
          "base_uri": "https://localhost:8080/",
          "height": 35
        },
        "id": "3390791e",
        "outputId": "221c54b9-780c-47e1-b301-f4433056af9d"
      },
      "outputs": [
        {
          "output_type": "execute_result",
          "data": {
            "text/plain": [
              "'你好 Steve，有什麼我可以幫助你的嗎？'"
            ],
            "application/vnd.google.colaboratory.intrinsic+json": {
              "type": "string"
            }
          },
          "metadata": {},
          "execution_count": 8
        }
      ],
      "source": [
        "prompt = \"哈囉你好，我是 Steve\"\n",
        "messages = [{\"role\": \"user\", \"content\": prompt}]\n",
        "response = openai.ChatCompletion.create(\n",
        "            model=\"gpt-3.5-turbo\",\n",
        "            messages=messages,\n",
        "            temperature=0\n",
        "        )\n",
        "# print(response)\n",
        "response.choices[0].message[\"content\"]"
      ]
    },
    {
      "cell_type": "markdown",
      "id": "a926b565",
      "metadata": {
        "id": "a926b565"
      },
      "source": [
        "## PTT 爬蟲\n",
        "\n",
        "- 平行化"
      ]
    },
    {
      "cell_type": "code",
      "source": [
        "from google.colab import drive\n",
        "\n",
        "drive.mount('/content/drive')"
      ],
      "metadata": {
        "colab": {
          "base_uri": "https://localhost:8080/"
        },
        "id": "FE7Yw9nwY-6w",
        "outputId": "1cc1b730-1fc5-4aa4-b447-4a9b08c7b57d"
      },
      "id": "FE7Yw9nwY-6w",
      "execution_count": null,
      "outputs": [
        {
          "output_type": "stream",
          "name": "stdout",
          "text": [
            "Mounted at /content/drive\n"
          ]
        }
      ]
    },
    {
      "cell_type": "code",
      "source": [
        "%cd /content/drive/MyDrive/"
      ],
      "metadata": {
        "colab": {
          "base_uri": "https://localhost:8080/"
        },
        "id": "SbQ2S9ijZYzv",
        "outputId": "7658be37-4e5b-4cf2-d466-769ed0ff3d22"
      },
      "id": "SbQ2S9ijZYzv",
      "execution_count": null,
      "outputs": [
        {
          "output_type": "stream",
          "name": "stdout",
          "text": [
            "/content/drive/MyDrive\n"
          ]
        }
      ]
    },
    {
      "cell_type": "code",
      "source": [
        "from PTTScraper import PTTScraper"
      ],
      "metadata": {
        "id": "Z9XRk4JqZeO3"
      },
      "id": "Z9XRk4JqZeO3",
      "execution_count": null,
      "outputs": []
    },
    {
      "cell_type": "code",
      "execution_count": null,
      "id": "4542d5e5",
      "metadata": {
        "colab": {
          "base_uri": "https://localhost:8080/"
        },
        "id": "4542d5e5",
        "outputId": "45ad960c-955d-44b6-db93-46ba9cac22f1"
      },
      "outputs": [
        {
          "output_type": "stream",
          "name": "stdout",
          "text": [
            "2023-06-07 00:00:00\n",
            "1\n",
            "2\n",
            "3\n",
            "4\n",
            "5\n",
            "6\n",
            "7\n",
            "8\n",
            "9\n",
            "10\n",
            "11\n",
            "12\n",
            "13\n",
            "14\n",
            "15\n",
            "16\n",
            "17\n",
            "18\n",
            "2023-06-07 00:00:00\n",
            "1\n",
            "2\n",
            "2023-06-06 00:00:00\n",
            "                              Title                    Author  \\\n",
            "0                  [公告] Stock 樂透開獎                       [彩券]   \n",
            "1           [情報] 2073 雄順 現金增資公開申購資訊         ej03xu3 (Touerin)   \n",
            "2       Re: [請益] 專職操盤，只有一支手機操作算專業嗎？         josh79103 (鯉魚王打水)   \n",
            "3        [新聞] 新光金6/9經營權決戰！改革派董事席次坐9           shank1995 (肖像克)   \n",
            "4         [新聞] 重擊幣圈！SEC主席：數位貨幣不是必要的             qk123 (qk123)   \n",
            "5            [情報] 5312 寶島科 112年5月營收   BlueBird5566 ( 唯一支持賴清德)   \n",
            "6                [請益] 現在市場上根本沒有利空了吧            ime5566 (天團56)   \n",
            "7       Re: [請益] 專職操盤，只有一支手機操作算專業嗎？           jinso7410 (Aso)   \n",
            "8               [請益] 富邦的App為什麼跟大便一樣        ChrisDavis (工業電風扇)   \n",
            "9    Re: [新聞] 緯創漲1年抵6年 高股息ETF沾光飆贏大盤          steven82219 (小志)   \n",
            "10              [標的] 旺玖6223-買了就忘記的多         ninia178178 (贏到粥)   \n",
            "11         [新聞] 台積電：評估日本第2座廠 仍在熊本以成     kinki999 (QQk 廢文被劣文中)   \n",
            "12          Re: [標的] 4123 晟德 小金雞太多               uzgo (雍正衝衝衝)   \n",
            "13           [情報] 1213大飲產品疑似沈澱物檢驗說明           lili712 (7年級韭菜)   \n",
            "14        Re: [新聞] 劉德音呼籲政府應重新檢視綠電政策  zzahoward (Cheshire Cat)   \n",
            "15   [新聞] 外資看蘋果Vision Pro頭盔 11家台廠入列         id44kimo (擁抱吧(B))   \n",
            "16              [閒聊] 2023/06/07盤中閒聊     justforsing (雯晴啦不是晴雯)   \n",
            "17       Re: [新聞] 台積電美國廠員工抱怨 劉德音：不願          accprote (宗痛好酸靈)   \n",
            "18         Re: [標的] 大盤 鈴芽之旅 空  (有雷)              A98454 (小羅賓)   \n",
            "19        [新聞] 台積電美國廠員工抱怨 劉德音：不願值班不            keel90135 (尼可)   \n",
            "20             [請益] 這幾年是不是很多人都財富自由了            blueboy (樂觀男孩)   \n",
            "21  Re: [新聞] 復甦動能減弱 中國5月製造業PMI連2月萎縮              analiya (莉雅)   \n",
            "\n",
            "                  Date                                            Content  \\\n",
            "0  2023-06-07 13:32:20  作者[彩券]看板Stock標題[公告] Stock 樂透開獎 時間Wed Jun  7 13...   \n",
            "1  2023-06-07 13:43:04  作者ej03xu3 (Touerin)看板Stock標題[情報] 2073 雄順 現金增資公...   \n",
            "2  2023-06-07 13:07:49  作者josh79103 (鯉魚王打水)看板Stock標題Re: [請益] 專職操盤，只有一支...   \n",
            "3  2023-06-07 12:59:15  作者shank1995 (肖像克)看板Stock標題[新聞] 新光金6/9經營權決戰！改革派...   \n",
            "4  2023-06-07 12:54:29  作者qk123 (qk123)看板Stock標題[新聞] 重擊幣圈！SEC主席：數位貨幣不是...   \n",
            "5  2023-06-07 12:53:49  作者BlueBird5566 ( 唯一支持賴清德)看板Stock標題[情報] 5312 寶島...   \n",
            "6  2023-06-07 12:45:54  作者ime5566 (天團56)看板Stock標題[請益] 現在市場上根本沒有利空了吧時間W...   \n",
            "7  2023-06-07 12:39:36  作者jinso7410 (Aso)看板Stock標題Re: [請益] 專職操盤，只有一支手機...   \n",
            "8  2023-06-07 12:33:58  作者ChrisDavis (工業電風扇)看板Stock標題[請益] 富邦的App為什麼跟大便...   \n",
            "9  2023-06-07 12:28:48  作者steven82219 (小志)看板Stock標題Re: [新聞] 緯創漲1年抵6年 高...   \n",
            "10 2023-06-07 12:06:53  作者ninia178178 (贏到粥)看板Stock標題[標的] 旺玖6223-買了就忘記的...   \n",
            "11 2023-06-07 11:15:55  作者kinki999 (QQk 廢文被劣文中)看板Stock標題[新聞] 台積電：評估日本第...   \n",
            "12 2023-06-07 10:27:17  作者uzgo (雍正衝衝衝)看板Stock標題Re: [標的] 4123 晟德 小金雞太多 ...   \n",
            "13 2023-06-07 10:26:41  作者lili712 (7年級韭菜)看板Stock標題[情報] 1213大飲產品疑似沈澱物檢驗...   \n",
            "14 2023-06-07 09:49:22  作者zzahoward (Cheshire Cat)看板Stock標題Re: [新聞] 劉德...   \n",
            "15 2023-06-07 08:51:11  作者id44kimo (擁抱吧(B))看板Stock標題[新聞] 外資看蘋果Vision P...   \n",
            "16 2023-06-07 08:30:00  作者justforsing (雯晴啦不是晴雯)看板Stock標題[閒聊] 2023/06/0...   \n",
            "17 2023-06-07 07:29:16  作者accprote (宗痛好酸靈)看板Stock標題Re: [新聞] 台積電美國廠員工抱怨...   \n",
            "18 2023-06-07 01:03:49  作者A98454 (小羅賓)看板Stock標題Re: [標的] 大盤 鈴芽之旅 空  (有雷...   \n",
            "19 2023-06-07 00:48:16  作者keel90135 (尼可)看板Stock標題[新聞] 台積電美國廠員工抱怨 劉德音：不...   \n",
            "20 2023-06-07 00:14:54  作者blueboy (樂觀男孩)看板Stock標題[請益] 這幾年是不是很多人都財富自由了時...   \n",
            "21 2023-06-06 23:13:53  作者analiya (莉雅)看板Stock標題Re: [新聞] 復甦動能減弱 中國5月製造業...   \n",
            "\n",
            "                                  Link  \\\n",
            "0   /bbs/Stock/M.1686115941.A.E18.html   \n",
            "1   /bbs/Stock/M.1686116587.A.AF4.html   \n",
            "2   /bbs/Stock/M.1686114471.A.C60.html   \n",
            "3   /bbs/Stock/M.1686113957.A.742.html   \n",
            "4   /bbs/Stock/M.1686113671.A.CD7.html   \n",
            "5   /bbs/Stock/M.1686113631.A.803.html   \n",
            "6   /bbs/Stock/M.1686113156.A.432.html   \n",
            "7   /bbs/Stock/M.1686112778.A.371.html   \n",
            "8   /bbs/Stock/M.1686112441.A.D4F.html   \n",
            "9   /bbs/Stock/M.1686112130.A.288.html   \n",
            "10  /bbs/Stock/M.1686110815.A.70F.html   \n",
            "11  /bbs/Stock/M.1686107757.A.8FB.html   \n",
            "12  /bbs/Stock/M.1686104839.A.E00.html   \n",
            "13  /bbs/Stock/M.1686104803.A.C6C.html   \n",
            "14  /bbs/Stock/M.1686102564.A.398.html   \n",
            "15  /bbs/Stock/M.1686099074.A.331.html   \n",
            "16  /bbs/Stock/M.1686097802.A.6B6.html   \n",
            "17  /bbs/Stock/M.1686094158.A.F48.html   \n",
            "18  /bbs/Stock/M.1686071031.A.D0B.html   \n",
            "19  /bbs/Stock/M.1686070098.A.F80.html   \n",
            "20  /bbs/Stock/M.1686068096.A.640.html   \n",
            "21  /bbs/Stock/M.1686064436.A.7A5.html   \n",
            "\n",
            "                                               Pushes  \n",
            "0   [{'Tag': '推', 'Userid': 'devidevi', 'Content':...  \n",
            "1                                                  []  \n",
            "2   [{'Tag': '→', 'Userid': 'Kobe5210', 'Content':...  \n",
            "3   [{'Tag': '推', 'Userid': 'm9103232', 'Content':...  \n",
            "4   [{'Tag': '推', 'Userid': 'photonic', 'Content':...  \n",
            "5   [{'Tag': '推', 'Userid': 'corner3500', 'Content...  \n",
            "6   [{'Tag': '推', 'Userid': 'mecca', 'Content': ' ...  \n",
            "7   [{'Tag': '推', 'Userid': 'newvote', 'Content': ...  \n",
            "8   [{'Tag': '推', 'Userid': 'ckHuang', 'Content': ...  \n",
            "9   [{'Tag': '噓', 'Userid': 'ray0215', 'Content': ...  \n",
            "10  [{'Tag': '推', 'Userid': 'likeaks', 'Content': ...  \n",
            "11  [{'Tag': '→', 'Userid': 'devidevi', 'Content':...  \n",
            "12  [{'Tag': '→', 'Userid': 'hebeisme5566', 'Conte...  \n",
            "13  [{'Tag': '推', 'Userid': 'O10lOl01O', 'Content'...  \n",
            "14  [{'Tag': '推', 'Userid': 'zeroxod', 'Content': ...  \n",
            "15  [{'Tag': '推', 'Userid': 's56565566123', 'Conte...  \n",
            "16  [{'Tag': '→', 'Userid': 'YU1225', 'Content': '...  \n",
            "17  [{'Tag': '→', 'Userid': 'Iceballz', 'Content':...  \n",
            "18  [{'Tag': '噓', 'Userid': 'alwaysalone', 'Conten...  \n",
            "19  [{'Tag': '推', 'Userid': 'jjjjjjs', 'Content': ...  \n",
            "20  [{'Tag': '→', 'Userid': 'kevin10449', 'Content...  \n",
            "21  [{'Tag': '推', 'Userid': 'okderla', 'Content': ...  \n"
          ]
        }
      ],
      "source": [
        "from PTTScraper import PTTScraper\n",
        "import pandas as pd\n",
        "\n",
        "scraper = PTTScraper()\n",
        "data = scraper.get_data_until(\"6/7\", max_posts=200)\n",
        "df = pd.DataFrame(data)\n",
        "print(df)"
      ]
    },
    {
      "cell_type": "code",
      "source": [
        "pd.DataFrame(df.Pushes[16])"
      ],
      "metadata": {
        "colab": {
          "base_uri": "https://localhost:8080/",
          "height": 423
        },
        "id": "kXJxg7KrfCio",
        "outputId": "208d1858-16f7-46bb-e208-d9db3a9dc37f"
      },
      "id": "kXJxg7KrfCio",
      "execution_count": null,
      "outputs": [
        {
          "output_type": "execute_result",
          "data": {
            "text/plain": [
              "     Tag        Userid                                  Content   Ipdatetime\n",
              "0      →        YU1225   35$中式炒麵https://i.imgur.com/fOusnDa.jpg  06/07 08:30\n",
              "1      噓     jinso7410          https://i.imgur.com/CiL8TFh.jpg  06/07 08:30\n",
              "2      →     jinso7410                         樂觀起來!!!!樂觀起來!!!!  06/07 08:30\n",
              "3      推          l1ll                                        早  06/07 08:30\n",
              "4      →   addy7533967                                 阿雯早安阿雯++  06/07 08:30\n",
              "...   ..           ...                                      ...          ...\n",
              "1489   →  frankie30432                    反正大盤如果沒崩轉盤整也是很多股票會拉位階  06/07 13:39\n",
              "1490   推     clamperni                               材料都喜歡跟別人逆向  06/07 13:39\n",
              "1491   推        akiras                             3374很棒耶..不早講  06/07 13:39\n",
              "1492   噓  Crushredkiss                           聾割是不是真的要喊到跌就算贏  06/07 13:39\n",
              "1493   推          fbtm                           為尾盤硬是收最高16922耶  06/07 13:40\n",
              "\n",
              "[1494 rows x 4 columns]"
            ],
            "text/html": [
              "\n",
              "  <div id=\"df-d0fa4acf-9a6e-4806-8616-ad2830a8261b\">\n",
              "    <div class=\"colab-df-container\">\n",
              "      <div>\n",
              "<style scoped>\n",
              "    .dataframe tbody tr th:only-of-type {\n",
              "        vertical-align: middle;\n",
              "    }\n",
              "\n",
              "    .dataframe tbody tr th {\n",
              "        vertical-align: top;\n",
              "    }\n",
              "\n",
              "    .dataframe thead th {\n",
              "        text-align: right;\n",
              "    }\n",
              "</style>\n",
              "<table border=\"1\" class=\"dataframe\">\n",
              "  <thead>\n",
              "    <tr style=\"text-align: right;\">\n",
              "      <th></th>\n",
              "      <th>Tag</th>\n",
              "      <th>Userid</th>\n",
              "      <th>Content</th>\n",
              "      <th>Ipdatetime</th>\n",
              "    </tr>\n",
              "  </thead>\n",
              "  <tbody>\n",
              "    <tr>\n",
              "      <th>0</th>\n",
              "      <td>→</td>\n",
              "      <td>YU1225</td>\n",
              "      <td>35$中式炒麵https://i.imgur.com/fOusnDa.jpg</td>\n",
              "      <td>06/07 08:30</td>\n",
              "    </tr>\n",
              "    <tr>\n",
              "      <th>1</th>\n",
              "      <td>噓</td>\n",
              "      <td>jinso7410</td>\n",
              "      <td>https://i.imgur.com/CiL8TFh.jpg</td>\n",
              "      <td>06/07 08:30</td>\n",
              "    </tr>\n",
              "    <tr>\n",
              "      <th>2</th>\n",
              "      <td>→</td>\n",
              "      <td>jinso7410</td>\n",
              "      <td>樂觀起來!!!!樂觀起來!!!!</td>\n",
              "      <td>06/07 08:30</td>\n",
              "    </tr>\n",
              "    <tr>\n",
              "      <th>3</th>\n",
              "      <td>推</td>\n",
              "      <td>l1ll</td>\n",
              "      <td>早</td>\n",
              "      <td>06/07 08:30</td>\n",
              "    </tr>\n",
              "    <tr>\n",
              "      <th>4</th>\n",
              "      <td>→</td>\n",
              "      <td>addy7533967</td>\n",
              "      <td>阿雯早安阿雯++</td>\n",
              "      <td>06/07 08:30</td>\n",
              "    </tr>\n",
              "    <tr>\n",
              "      <th>...</th>\n",
              "      <td>...</td>\n",
              "      <td>...</td>\n",
              "      <td>...</td>\n",
              "      <td>...</td>\n",
              "    </tr>\n",
              "    <tr>\n",
              "      <th>1489</th>\n",
              "      <td>→</td>\n",
              "      <td>frankie30432</td>\n",
              "      <td>反正大盤如果沒崩轉盤整也是很多股票會拉位階</td>\n",
              "      <td>06/07 13:39</td>\n",
              "    </tr>\n",
              "    <tr>\n",
              "      <th>1490</th>\n",
              "      <td>推</td>\n",
              "      <td>clamperni</td>\n",
              "      <td>材料都喜歡跟別人逆向</td>\n",
              "      <td>06/07 13:39</td>\n",
              "    </tr>\n",
              "    <tr>\n",
              "      <th>1491</th>\n",
              "      <td>推</td>\n",
              "      <td>akiras</td>\n",
              "      <td>3374很棒耶..不早講</td>\n",
              "      <td>06/07 13:39</td>\n",
              "    </tr>\n",
              "    <tr>\n",
              "      <th>1492</th>\n",
              "      <td>噓</td>\n",
              "      <td>Crushredkiss</td>\n",
              "      <td>聾割是不是真的要喊到跌就算贏</td>\n",
              "      <td>06/07 13:39</td>\n",
              "    </tr>\n",
              "    <tr>\n",
              "      <th>1493</th>\n",
              "      <td>推</td>\n",
              "      <td>fbtm</td>\n",
              "      <td>為尾盤硬是收最高16922耶</td>\n",
              "      <td>06/07 13:40</td>\n",
              "    </tr>\n",
              "  </tbody>\n",
              "</table>\n",
              "<p>1494 rows × 4 columns</p>\n",
              "</div>\n",
              "      <button class=\"colab-df-convert\" onclick=\"convertToInteractive('df-d0fa4acf-9a6e-4806-8616-ad2830a8261b')\"\n",
              "              title=\"Convert this dataframe to an interactive table.\"\n",
              "              style=\"display:none;\">\n",
              "        \n",
              "  <svg xmlns=\"http://www.w3.org/2000/svg\" height=\"24px\"viewBox=\"0 0 24 24\"\n",
              "       width=\"24px\">\n",
              "    <path d=\"M0 0h24v24H0V0z\" fill=\"none\"/>\n",
              "    <path d=\"M18.56 5.44l.94 2.06.94-2.06 2.06-.94-2.06-.94-.94-2.06-.94 2.06-2.06.94zm-11 1L8.5 8.5l.94-2.06 2.06-.94-2.06-.94L8.5 2.5l-.94 2.06-2.06.94zm10 10l.94 2.06.94-2.06 2.06-.94-2.06-.94-.94-2.06-.94 2.06-2.06.94z\"/><path d=\"M17.41 7.96l-1.37-1.37c-.4-.4-.92-.59-1.43-.59-.52 0-1.04.2-1.43.59L10.3 9.45l-7.72 7.72c-.78.78-.78 2.05 0 2.83L4 21.41c.39.39.9.59 1.41.59.51 0 1.02-.2 1.41-.59l7.78-7.78 2.81-2.81c.8-.78.8-2.07 0-2.86zM5.41 20L4 18.59l7.72-7.72 1.47 1.35L5.41 20z\"/>\n",
              "  </svg>\n",
              "      </button>\n",
              "      \n",
              "  <style>\n",
              "    .colab-df-container {\n",
              "      display:flex;\n",
              "      flex-wrap:wrap;\n",
              "      gap: 12px;\n",
              "    }\n",
              "\n",
              "    .colab-df-convert {\n",
              "      background-color: #E8F0FE;\n",
              "      border: none;\n",
              "      border-radius: 50%;\n",
              "      cursor: pointer;\n",
              "      display: none;\n",
              "      fill: #1967D2;\n",
              "      height: 32px;\n",
              "      padding: 0 0 0 0;\n",
              "      width: 32px;\n",
              "    }\n",
              "\n",
              "    .colab-df-convert:hover {\n",
              "      background-color: #E2EBFA;\n",
              "      box-shadow: 0px 1px 2px rgba(60, 64, 67, 0.3), 0px 1px 3px 1px rgba(60, 64, 67, 0.15);\n",
              "      fill: #174EA6;\n",
              "    }\n",
              "\n",
              "    [theme=dark] .colab-df-convert {\n",
              "      background-color: #3B4455;\n",
              "      fill: #D2E3FC;\n",
              "    }\n",
              "\n",
              "    [theme=dark] .colab-df-convert:hover {\n",
              "      background-color: #434B5C;\n",
              "      box-shadow: 0px 1px 3px 1px rgba(0, 0, 0, 0.15);\n",
              "      filter: drop-shadow(0px 1px 2px rgba(0, 0, 0, 0.3));\n",
              "      fill: #FFFFFF;\n",
              "    }\n",
              "  </style>\n",
              "\n",
              "      <script>\n",
              "        const buttonEl =\n",
              "          document.querySelector('#df-d0fa4acf-9a6e-4806-8616-ad2830a8261b button.colab-df-convert');\n",
              "        buttonEl.style.display =\n",
              "          google.colab.kernel.accessAllowed ? 'block' : 'none';\n",
              "\n",
              "        async function convertToInteractive(key) {\n",
              "          const element = document.querySelector('#df-d0fa4acf-9a6e-4806-8616-ad2830a8261b');\n",
              "          const dataTable =\n",
              "            await google.colab.kernel.invokeFunction('convertToInteractive',\n",
              "                                                     [key], {});\n",
              "          if (!dataTable) return;\n",
              "\n",
              "          const docLinkHtml = 'Like what you see? Visit the ' +\n",
              "            '<a target=\"_blank\" href=https://colab.research.google.com/notebooks/data_table.ipynb>data table notebook</a>'\n",
              "            + ' to learn more about interactive tables.';\n",
              "          element.innerHTML = '';\n",
              "          dataTable['output_type'] = 'display_data';\n",
              "          await google.colab.output.renderOutput(dataTable, element);\n",
              "          const docLink = document.createElement('div');\n",
              "          docLink.innerHTML = docLinkHtml;\n",
              "          element.appendChild(docLink);\n",
              "        }\n",
              "      </script>\n",
              "    </div>\n",
              "  </div>\n",
              "  "
            ]
          },
          "metadata": {},
          "execution_count": 31
        }
      ]
    },
    {
      "cell_type": "markdown",
      "id": "7a4a9078",
      "metadata": {
        "id": "7a4a9078"
      },
      "source": [
        "## Prompt 設定"
      ]
    },
    {
      "cell_type": "code",
      "execution_count": 11,
      "id": "fdae9c56",
      "metadata": {
        "id": "fdae9c56"
      },
      "outputs": [],
      "source": [
        "import pandas as pd\n",
        "\n",
        "def sentiment_prompt(chat):\n",
        "    return f\"\"\"\n",
        "    Analyze the sentiment of the following stock market chat.\n",
        "    Chat text is enclosed within angle brackets.\n",
        "    Your answer is a single word, either \"positive\" or \"negative\" or \"neutral\".\n",
        "    If stock market target is not mentioned in the chat set the sentiment answer to \"neutral\",\n",
        "    otherwise, please list it in chinese, stock code or code name.\n",
        "\n",
        "    Provide above answers in JSON format with keys, respectively:\n",
        "    sentiment, stock_target.\n",
        "    And Follow the format:\n",
        "\n",
        "    {{\"sentiment\":..., \"stock_target\":...}}\n",
        "\n",
        "    Stock_market_chat text: <{chat}>\n",
        "    \"\"\"\n",
        "\n",
        "def sentiment_prompt_chinese(chat):\n",
        "    return f'''\n",
        "    在一組\"<>\"中是一篇股票相關的發文，請對這篇文章進行情緒分析。\n",
        "    Your answer is a single word, either \"positive\" or \"negative\" or \"neutral\".\n",
        "    如果該情緒分析與標的有關，請列出該標的\"股票名稱\"、\"股票代號\"或是\"暱稱\"。\n",
        "    如果該情緒分析是針對整個市場，顯示為\"Market\"，如都沒有則顯示\"null\"。\n",
        "\n",
        "    Provide above sentiment result and stock target answers in JSON format with keys, respectively:\n",
        "    sentiment, stock_target.\n",
        "    And Follow the format:\n",
        "\n",
        "    {{\"sentiment\":..., \"stock_target\":... }}\n",
        "\n",
        "    Stock_market_chat text: <{chat}>\n",
        "    '''\n",
        "\n",
        "def get_completion(prompt, model=\"gpt-3.5-turbo\"):\n",
        "\n",
        "    # prompt = sentiment_prompt(prompt)\n",
        "    messages = [{\"role\": \"user\", \"content\": prompt}]\n",
        "    if model == \"gpt-3.5-turbo\":\n",
        "        response = openai.ChatCompletion.create(\n",
        "            model=model,\n",
        "            messages=messages,\n",
        "            temperature=0\n",
        "        )\n",
        "        return response.choices[0].message[\"content\"]\n",
        "    else:\n",
        "        response = openai.Completion.create(\n",
        "            model=\"text-davinci-003\",\n",
        "            prompt=prompt\n",
        "        )\n",
        "    return response.choices[0].text\n",
        "\n",
        "# prompts = list(map(sentiment_prompt_chinese, pd.DataFrame(df.Pushes[16]).Content))\n"
      ]
    },
    {
      "cell_type": "code",
      "source": [
        "results = []\n",
        "for i in range(0, len(pd.DataFrame(df.Pushes[16]).Content), 5):\n",
        "  prompts = list(map(sentiment_prompt_chinese, pd.DataFrame(df.Pushes[16]).Content[:i]))\n",
        "  result = list(map(get_completion, prompts))\n",
        "  results.extend(result)\n",
        "  for p, r in zip(pd.DataFrame(df.Pushes[16]).Content[:i], result):\n",
        "    print(\"推文內容: \", p, \" : \", r)"
      ],
      "metadata": {
        "colab": {
          "base_uri": "https://localhost:8080/",
          "height": 1000
        },
        "id": "8afs42aahWXQ",
        "outputId": "e12106bd-36a5-44cd-e024-289c150204cf"
      },
      "id": "8afs42aahWXQ",
      "execution_count": null,
      "outputs": [
        {
          "output_type": "stream",
          "name": "stdout",
          "text": [
            "推文內容:   35$中式炒麵https://i.imgur.com/fOusnDa.jpg  :  {\"sentiment\":\"neutral\", \"stock_target\":\"null\"}\n",
            "推文內容:   https://i.imgur.com/CiL8TFh.jpg  :  {\"sentiment\":\"negative\", \"stock_target\":\"null\"}\n",
            "推文內容:   樂觀起來!!!!樂觀起來!!!!  :  {\"sentiment\":\"positive\", \"stock_target\":\"null\"}\n",
            "推文內容:   早  :  {\"sentiment\":\"neutral\", \"stock_target\":\"null\"}\n",
            "推文內容:   阿雯早安阿雯++  :  {\"sentiment\":\"neutral\", \"stock_target\":\"null\"}\n",
            "推文內容:   35$中式炒麵https://i.imgur.com/fOusnDa.jpg  :  {\"sentiment\":\"neutral\", \"stock_target\":\"null\"}\n",
            "推文內容:   https://i.imgur.com/CiL8TFh.jpg  :  {\"sentiment\":\"negative\", \"stock_target\":\"null\"}\n",
            "推文內容:   樂觀起來!!!!樂觀起來!!!!  :  {\"sentiment\":\"positive\", \"stock_target\":\"null\"}\n",
            "推文內容:   早  :  {\"sentiment\":\"neutral\", \"stock_target\":\"null\"}\n",
            "推文內容:   阿雯早安阿雯++  :  {\"sentiment\":\"neutral\", \"stock_target\":\"null\"}\n",
            "推文內容:   雯晴窩愛你  :  {\"sentiment\":\"neutral\", \"stock_target\":\"null\"}\n",
            "推文內容:   雯晴早  :  {\"sentiment\": \"neutral\", \"stock_target\": \"null\"}\n",
            "推文內容:   https://i.imgur.com/l8YluVn.jpg  :  {\"sentiment\":\"negative\", \"stock_target\":\"null\"}\n",
            "推文內容:   早啊 軋爆空軍 開心的一天  :  {\"sentiment\":\"positive\", \"stock_target\":\"null\"}\n",
            "推文內容:   軋爆空軍樂陶陶QQ  :  {\"sentiment\":\"neutral\", \"stock_target\":\"null\"}\n",
            "推文內容:   35$中式炒麵https://i.imgur.com/fOusnDa.jpg  :  {\"sentiment\":\"neutral\", \"stock_target\":\"null\"}\n",
            "推文內容:   https://i.imgur.com/CiL8TFh.jpg  :  {\"sentiment\":\"negative\", \"stock_target\":\"null\"}\n",
            "推文內容:   樂觀起來!!!!樂觀起來!!!!  :  {\"sentiment\":\"positive\", \"stock_target\":\"null\"}\n",
            "推文內容:   早  :  {\"sentiment\":\"neutral\", \"stock_target\":\"null\"}\n",
            "推文內容:   阿雯早安阿雯++  :  {\"sentiment\":\"neutral\", \"stock_target\":\"null\"}\n",
            "推文內容:   雯晴窩愛你  :  {\"sentiment\":\"neutral\", \"stock_target\":\"null\"}\n",
            "推文內容:   雯晴早  :  {\"sentiment\": \"neutral\", \"stock_target\": \"null\"}\n",
            "推文內容:   https://i.imgur.com/l8YluVn.jpg  :  {\"sentiment\":\"negative\", \"stock_target\":\"null\"}\n",
            "推文內容:   早啊 軋爆空軍 開心的一天  :  {\"sentiment\":\"positive\", \"stock_target\":\"null\"}\n",
            "推文內容:   軋爆空軍樂陶陶QQ  :  {\"sentiment\":\"neutral\", \"stock_target\":\"null\"}\n",
            "推文內容:   晴雯早  :  {\"sentiment\":\"neutral\", \"stock_target\":\"null\"}\n",
            "推文內容:   雯文早 大家早  :  {\"sentiment\":\"neutral\", \"stock_target\":\"null\"}\n",
            "推文內容:   老蘇再度大獲全勝  :  {\"sentiment\":\"positive\", \"stock_target\":\"null\"}\n",
            "推文內容:   各位股神早安 :) 台股 審慎樂觀  :  {\"sentiment\":\"positive\", \"stock_target\":\"Market\"}\n",
            "推文內容:   晴雯早  :  {\"sentiment\":\"neutral\", \"stock_target\":\"null\"}\n",
            "推文內容:   35$中式炒麵https://i.imgur.com/fOusnDa.jpg  :  {\"sentiment\":\"neutral\", \"stock_target\":\"null\"}\n",
            "推文內容:   https://i.imgur.com/CiL8TFh.jpg  :  {\"sentiment\":\"negative\", \"stock_target\":\"null\"}\n",
            "推文內容:   樂觀起來!!!!樂觀起來!!!!  :  {\"sentiment\":\"positive\", \"stock_target\":\"null\"}\n",
            "推文內容:   早  :  {\"sentiment\":\"neutral\", \"stock_target\":\"null\"}\n",
            "推文內容:   阿雯早安阿雯++  :  {\"sentiment\":\"neutral\", \"stock_target\":\"null\"}\n",
            "推文內容:   雯晴窩愛你  :  {\"sentiment\":\"neutral\", \"stock_target\":\"null\"}\n",
            "推文內容:   雯晴早  :  {\"sentiment\": \"neutral\", \"stock_target\": \"null\"}\n",
            "推文內容:   https://i.imgur.com/l8YluVn.jpg  :  {\"sentiment\":\"negative\", \"stock_target\":\"null\"}\n",
            "推文內容:   早啊 軋爆空軍 開心的一天  :  {\"sentiment\":\"positive\", \"stock_target\":\"null\"}\n",
            "推文內容:   軋爆空軍樂陶陶QQ  :  {\"sentiment\":\"neutral\", \"stock_target\":\"null\"}\n",
            "推文內容:   晴雯早  :  {\"sentiment\":\"neutral\", \"stock_target\":\"null\"}\n",
            "推文內容:   雯文早 大家早  :  {\"sentiment\":\"neutral\", \"stock_target\":\"null\"}\n",
            "推文內容:   老蘇再度大獲全勝  :  {\"sentiment\":\"positive\", \"stock_target\":\"null\"}\n",
            "推文內容:   各位股神早安 :) 台股 審慎樂觀  :  {\"sentiment\":\"positive\", \"stock_target\":\"Market\"}\n",
            "推文內容:   晴雯早  :  {\"sentiment\":\"neutral\", \"stock_target\":\"null\"}\n",
            "推文內容:   晴雯早  :  {\"sentiment\":\"neutral\", \"stock_target\":\"null\"}\n",
            "推文內容:   雯晴早安  :  {\"sentiment\":\"neutral\", \"stock_target\":\"null\"}\n",
            "推文內容:   開高走高 收最高  :  {\"sentiment\":\"positive\", \"stock_target\":\"null\"}\n",
            "推文內容:   今天全面樂觀!!!  :  {\"sentiment\":\"positive\", \"stock_target\":\"null\"}\n",
            "推文內容:   晴雯995  :  {\"sentiment\": \"neutral\", \"stock_target\": \"null\"}\n",
            "推文內容:   35$中式炒麵https://i.imgur.com/fOusnDa.jpg  :  {\"sentiment\":\"neutral\", \"stock_target\":\"null\"}\n",
            "推文內容:   https://i.imgur.com/CiL8TFh.jpg  :  {\"sentiment\":\"negative\", \"stock_target\":\"null\"}\n",
            "推文內容:   樂觀起來!!!!樂觀起來!!!!  :  {\"sentiment\":\"positive\", \"stock_target\":\"null\"}\n",
            "推文內容:   早  :  {\"sentiment\":\"neutral\", \"stock_target\":\"null\"}\n",
            "推文內容:   阿雯早安阿雯++  :  {\"sentiment\":\"neutral\", \"stock_target\":\"null\"}\n",
            "推文內容:   雯晴窩愛你  :  {\"sentiment\":\"neutral\", \"stock_target\":\"null\"}\n",
            "推文內容:   雯晴早  :  {\"sentiment\": \"neutral\", \"stock_target\": \"null\"}\n",
            "推文內容:   https://i.imgur.com/l8YluVn.jpg  :  {\"sentiment\": \"neutral\", \"stock_target\": \"null\"}\n",
            "推文內容:   早啊 軋爆空軍 開心的一天  :  {\"sentiment\":\"positive\", \"stock_target\":\"null\"}\n",
            "推文內容:   軋爆空軍樂陶陶QQ  :  {\"sentiment\":\"neutral\", \"stock_target\":\"null\"}\n",
            "推文內容:   晴雯早  :  {\"sentiment\":\"neutral\", \"stock_target\":\"null\"}\n",
            "推文內容:   雯文早 大家早  :  {\"sentiment\":\"neutral\", \"stock_target\":\"null\"}\n",
            "推文內容:   老蘇再度大獲全勝  :  {\"sentiment\":\"positive\", \"stock_target\":\"null\"}\n",
            "推文內容:   各位股神早安 :) 台股 審慎樂觀  :  {\"sentiment\":\"positive\", \"stock_target\":\"Market\"}\n",
            "推文內容:   晴雯早  :  {\"sentiment\":\"neutral\", \"stock_target\":\"null\"}\n",
            "推文內容:   晴雯早  :  {\"sentiment\":\"neutral\", \"stock_target\":\"null\"}\n",
            "推文內容:   雯晴早安  :  {\"sentiment\":\"neutral\", \"stock_target\":\"null\"}\n",
            "推文內容:   開高走高 收最高  :  {\"sentiment\":\"positive\", \"stock_target\":\"null\"}\n",
            "推文內容:   今天全面樂觀!!!  :  {\"sentiment\":\"positive\", \"stock_target\":\"null\"}\n",
            "推文內容:   晴雯995  :  {\"sentiment\":\"neutral\", \"stock_target\":\"null\"}\n",
            "推文內容:   ===哥~只買台&納正二,傻空審判日到來,爹咧嘻嘻嘻===  :  {\"sentiment\":\"neutral\", \"stock_target\":\"null\"}\n",
            "推文內容:   ========每天都有高點空，一直摸頭錢很多。========  :  {\"sentiment\":\"negative\", \"stock_target\":\"null\"}\n",
            "推文內容:   戈登黃藍燈  :  {\"sentiment\":\"neutral\", \"stock_target\":\"null\"}\n",
            "推文內容:   日經又漲了  :  {\"sentiment\":\"positive\", \"stock_target\":\"Market\"}\n",
            "推文內容:   下半年度 面板喵主升段 大家要記得領養喔！  :  {\"sentiment\":\"positive\", \"stock_target\":\"null\"}\n",
            "推文內容:   35$中式炒麵https://i.imgur.com/fOusnDa.jpg  :  {\"sentiment\":\"neutral\", \"stock_target\":\"null\"}\n",
            "推文內容:   https://i.imgur.com/CiL8TFh.jpg  :  {\"sentiment\":\"negative\", \"stock_target\":\"null\"}\n",
            "推文內容:   樂觀起來!!!!樂觀起來!!!!  :  {\"sentiment\":\"positive\", \"stock_target\":\"null\"}\n",
            "推文內容:   早  :  {\"sentiment\":\"neutral\", \"stock_target\":\"null\"}\n",
            "推文內容:   阿雯早安阿雯++  :  {\"sentiment\":\"neutral\", \"stock_target\":\"null\"}\n",
            "推文內容:   雯晴窩愛你  :  {\"sentiment\":\"neutral\", \"stock_target\":\"null\"}\n",
            "推文內容:   雯晴早  :  {\"sentiment\": \"neutral\", \"stock_target\": \"null\"}\n",
            "推文內容:   https://i.imgur.com/l8YluVn.jpg  :  {\"sentiment\":\"negative\", \"stock_target\":\"null\"}\n",
            "推文內容:   早啊 軋爆空軍 開心的一天  :  {\"sentiment\":\"positive\", \"stock_target\":\"null\"}\n",
            "推文內容:   軋爆空軍樂陶陶QQ  :  {\"sentiment\":\"neutral\", \"stock_target\":\"null\"}\n",
            "推文內容:   晴雯早  :  {\"sentiment\":\"neutral\", \"stock_target\":\"null\"}\n",
            "推文內容:   雯文早 大家早  :  {\"sentiment\":\"neutral\", \"stock_target\":\"null\"}\n",
            "推文內容:   老蘇再度大獲全勝  :  {\"sentiment\":\"positive\", \"stock_target\":\"null\"}\n",
            "推文內容:   各位股神早安 :) 台股 審慎樂觀  :  {\"sentiment\":\"positive\", \"stock_target\":\"Market\"}\n",
            "推文內容:   晴雯早  :  {\"sentiment\":\"neutral\", \"stock_target\":\"null\"}\n",
            "推文內容:   晴雯早  :  {\"sentiment\":\"neutral\", \"stock_target\":\"null\"}\n",
            "推文內容:   雯晴早安  :  {\"sentiment\":\"neutral\", \"stock_target\":\"null\"}\n",
            "推文內容:   開高走高 收最高  :  {\"sentiment\":\"positive\", \"stock_target\":\"null\"}\n",
            "推文內容:   今天全面樂觀!!!  :  {\"sentiment\":\"positive\", \"stock_target\":\"null\"}\n",
            "推文內容:   晴雯995  :  {\"sentiment\": \"neutral\", \"stock_target\": \"null\"}\n",
            "推文內容:   ===哥~只買台&納正二,傻空審判日到來,爹咧嘻嘻嘻===  :  {\"sentiment\":\"neutral\", \"stock_target\":\"null\"}\n",
            "推文內容:   ========每天都有高點空，一直摸頭錢很多。========  :  {\"sentiment\":\"negative\", \"stock_target\":\"null\"}\n",
            "推文內容:   戈登黃藍燈  :  {\"sentiment\":\"neutral\", \"stock_target\":\"null\"}\n",
            "推文內容:   日經又漲了  :  {\"sentiment\":\"positive\", \"stock_target\":\"Market\"}\n",
            "推文內容:   下半年度 面板喵主升段 大家要記得領養喔！  :  {\"sentiment\":\"positive\", \"stock_target\":\"null\"}\n",
            "推文內容:   記得跟你們洗腦 下半年面板喵主升段的id  :  {\"sentiment\":\"neutral\", \"stock_target\":\"null\"}\n",
            "推文內容:   32510又撿了2口小日經  :  {\"sentiment\":\"neutral\", \"stock_target\":\"32510\"}\n",
            "推文內容:   ========整天檢舉累不累，公園記得蓋棉被。========  :  {\"sentiment\":\"neutral\", \"stock_target\":\"null\"}\n",
            "推文內容:   歐印多！！  :  {\"sentiment\":\"neutral\", \"stock_target\":\"null\"}\n",
            "推文內容:   ========買完沒事爬文笑，現金多到你嚇到。========  :  {\"sentiment\":\"positive\", \"stock_target\":\"null\"}\n",
            "推文內容:   35$中式炒麵https://i.imgur.com/fOusnDa.jpg  :  {\"sentiment\":\"neutral\", \"stock_target\":\"null\"}\n",
            "推文內容:   https://i.imgur.com/CiL8TFh.jpg  :  {\"sentiment\":\"negative\", \"stock_target\":\"null\"}\n",
            "推文內容:   樂觀起來!!!!樂觀起來!!!!  :  {\"sentiment\":\"positive\", \"stock_target\":\"null\"}\n",
            "推文內容:   早  :  {\"sentiment\":\"neutral\", \"stock_target\":\"null\"}\n",
            "推文內容:   阿雯早安阿雯++  :  {\"sentiment\":\"neutral\", \"stock_target\":\"null\"}\n",
            "推文內容:   雯晴窩愛你  :  {\"sentiment\":\"neutral\", \"stock_target\":\"null\"}\n",
            "推文內容:   雯晴早  :  {\"sentiment\": \"neutral\", \"stock_target\": \"null\"}\n",
            "推文內容:   https://i.imgur.com/l8YluVn.jpg  :  {\"sentiment\":\"negative\", \"stock_target\":\"null\"}\n",
            "推文內容:   早啊 軋爆空軍 開心的一天  :  {\"sentiment\":\"positive\", \"stock_target\":\"null\"}\n",
            "推文內容:   軋爆空軍樂陶陶QQ  :  {\"sentiment\":\"neutral\", \"stock_target\":\"null\"}\n",
            "推文內容:   晴雯早  :  {\"sentiment\":\"neutral\", \"stock_target\":\"null\"}\n",
            "推文內容:   雯文早 大家早  :  {\"sentiment\":\"neutral\", \"stock_target\":\"null\"}\n",
            "推文內容:   老蘇再度大獲全勝  :  {\"sentiment\":\"positive\", \"stock_target\":\"null\"}\n",
            "推文內容:   各位股神早安 :) 台股 審慎樂觀  :  {\"sentiment\":\"positive\", \"stock_target\":\"Market\"}\n",
            "推文內容:   晴雯早  :  {\"sentiment\":\"neutral\", \"stock_target\":\"null\"}\n",
            "推文內容:   晴雯早  :  {\"sentiment\":\"neutral\", \"stock_target\":\"null\"}\n",
            "推文內容:   雯晴早安  :  {\"sentiment\":\"neutral\", \"stock_target\":\"null\"}\n",
            "推文內容:   開高走高 收最高  :  {\"sentiment\":\"positive\", \"stock_target\":\"null\"}\n",
            "推文內容:   今天全面樂觀!!!  :  {\"sentiment\":\"positive\", \"stock_target\":\"null\"}\n",
            "推文內容:   晴雯995  :  {\"sentiment\": \"neutral\", \"stock_target\": \"null\"}\n",
            "推文內容:   ===哥~只買台&納正二,傻空審判日到來,爹咧嘻嘻嘻===  :  {\"sentiment\":\"neutral\", \"stock_target\":\"null\"}\n",
            "推文內容:   ========每天都有高點空，一直摸頭錢很多。========  :  {\"sentiment\":\"negative\", \"stock_target\":\"null\"}\n",
            "推文內容:   戈登黃藍燈  :  {\"sentiment\":\"neutral\", \"stock_target\":\"null\"}\n",
            "推文內容:   日經又漲了  :  {\"sentiment\":\"positive\", \"stock_target\":\"Market\"}\n",
            "推文內容:   下半年度 面板喵主升段 大家要記得領養喔！  :  {\"sentiment\":\"positive\", \"stock_target\":\"null\"}\n",
            "推文內容:   記得跟你們洗腦 下半年面板喵主升段的id  :  {\"sentiment\":\"neutral\", \"stock_target\":\"null\"}\n",
            "推文內容:   32510又撿了2口小日經  :  {\"sentiment\":\"neutral\", \"stock_target\":\"32510\"}\n",
            "推文內容:   ========整天檢舉累不累，公園記得蓋棉被。========  :  {\"sentiment\":\"neutral\", \"stock_target\":\"null\"}\n",
            "推文內容:   歐印多！！  :  {\"sentiment\":\"neutral\", \"stock_target\":\"null\"}\n",
            "推文內容:   ========買完沒事爬文笑，現金多到你嚇到。========  :  {\"sentiment\":\"positive\", \"stock_target\":\"null\"}\n",
            "推文內容:   請晴雯放空軍一條生路   開條人道走廊讓傻空跑  :  {\"sentiment\":\"neutral\", \"stock_target\":\"null\"}\n",
            "推文內容:   ========無腦正二已來到，帳戶數字嚇嚇叫。========  :  {\"sentiment\":\"negative\", \"stock_target\":\"null\"}\n",
            "推文內容:   人越來越少了，看來差不多了  :  {\"sentiment\":\"negative\", \"stock_target\":\"null\"}\n",
            "推文內容:   股版風向全面一致  :  {\"sentiment\":\"neutral\", \"stock_target\":\"null\"}\n",
            "推文內容:   雯晴開準備噴爆，今天過萬七。  :  {\"sentiment\":\"positive\", \"stock_target\":\"null\"}\n"
          ]
        },
        {
          "output_type": "error",
          "ename": "KeyboardInterrupt",
          "evalue": "ignored",
          "traceback": [
            "\u001b[0;31m---------------------------------------------------------------------------\u001b[0m",
            "\u001b[0;31mKeyboardInterrupt\u001b[0m                         Traceback (most recent call last)",
            "\u001b[0;32m<ipython-input-71-5737b29cdb70>\u001b[0m in \u001b[0;36m<cell line: 2>\u001b[0;34m()\u001b[0m\n\u001b[1;32m      2\u001b[0m \u001b[0;32mfor\u001b[0m \u001b[0mi\u001b[0m \u001b[0;32min\u001b[0m \u001b[0mrange\u001b[0m\u001b[0;34m(\u001b[0m\u001b[0;36m0\u001b[0m\u001b[0;34m,\u001b[0m \u001b[0mlen\u001b[0m\u001b[0;34m(\u001b[0m\u001b[0mpd\u001b[0m\u001b[0;34m.\u001b[0m\u001b[0mDataFrame\u001b[0m\u001b[0;34m(\u001b[0m\u001b[0mdf\u001b[0m\u001b[0;34m.\u001b[0m\u001b[0mPushes\u001b[0m\u001b[0;34m[\u001b[0m\u001b[0;36m16\u001b[0m\u001b[0;34m]\u001b[0m\u001b[0;34m)\u001b[0m\u001b[0;34m.\u001b[0m\u001b[0mContent\u001b[0m\u001b[0;34m)\u001b[0m\u001b[0;34m,\u001b[0m \u001b[0;36m5\u001b[0m\u001b[0;34m)\u001b[0m\u001b[0;34m:\u001b[0m\u001b[0;34m\u001b[0m\u001b[0;34m\u001b[0m\u001b[0m\n\u001b[1;32m      3\u001b[0m   \u001b[0mprompts\u001b[0m \u001b[0;34m=\u001b[0m \u001b[0mlist\u001b[0m\u001b[0;34m(\u001b[0m\u001b[0mmap\u001b[0m\u001b[0;34m(\u001b[0m\u001b[0msentiment_prompt_chinese\u001b[0m\u001b[0;34m,\u001b[0m \u001b[0mpd\u001b[0m\u001b[0;34m.\u001b[0m\u001b[0mDataFrame\u001b[0m\u001b[0;34m(\u001b[0m\u001b[0mdf\u001b[0m\u001b[0;34m.\u001b[0m\u001b[0mPushes\u001b[0m\u001b[0;34m[\u001b[0m\u001b[0;36m16\u001b[0m\u001b[0;34m]\u001b[0m\u001b[0;34m)\u001b[0m\u001b[0;34m.\u001b[0m\u001b[0mContent\u001b[0m\u001b[0;34m[\u001b[0m\u001b[0;34m:\u001b[0m\u001b[0mi\u001b[0m\u001b[0;34m]\u001b[0m\u001b[0;34m)\u001b[0m\u001b[0;34m)\u001b[0m\u001b[0;34m\u001b[0m\u001b[0;34m\u001b[0m\u001b[0m\n\u001b[0;32m----> 4\u001b[0;31m   \u001b[0mresult\u001b[0m \u001b[0;34m=\u001b[0m \u001b[0mlist\u001b[0m\u001b[0;34m(\u001b[0m\u001b[0mmap\u001b[0m\u001b[0;34m(\u001b[0m\u001b[0mget_completion\u001b[0m\u001b[0;34m,\u001b[0m \u001b[0mprompts\u001b[0m\u001b[0;34m)\u001b[0m\u001b[0;34m)\u001b[0m\u001b[0;34m\u001b[0m\u001b[0;34m\u001b[0m\u001b[0m\n\u001b[0m\u001b[1;32m      5\u001b[0m   \u001b[0mresults\u001b[0m\u001b[0;34m.\u001b[0m\u001b[0mextend\u001b[0m\u001b[0;34m(\u001b[0m\u001b[0mresult\u001b[0m\u001b[0;34m)\u001b[0m\u001b[0;34m\u001b[0m\u001b[0;34m\u001b[0m\u001b[0m\n\u001b[1;32m      6\u001b[0m   \u001b[0;32mfor\u001b[0m \u001b[0mp\u001b[0m\u001b[0;34m,\u001b[0m \u001b[0mr\u001b[0m \u001b[0;32min\u001b[0m \u001b[0mzip\u001b[0m\u001b[0;34m(\u001b[0m\u001b[0mpd\u001b[0m\u001b[0;34m.\u001b[0m\u001b[0mDataFrame\u001b[0m\u001b[0;34m(\u001b[0m\u001b[0mdf\u001b[0m\u001b[0;34m.\u001b[0m\u001b[0mPushes\u001b[0m\u001b[0;34m[\u001b[0m\u001b[0;36m16\u001b[0m\u001b[0;34m]\u001b[0m\u001b[0;34m)\u001b[0m\u001b[0;34m.\u001b[0m\u001b[0mContent\u001b[0m\u001b[0;34m[\u001b[0m\u001b[0;34m:\u001b[0m\u001b[0mi\u001b[0m\u001b[0;34m]\u001b[0m\u001b[0;34m,\u001b[0m \u001b[0mresult\u001b[0m\u001b[0;34m)\u001b[0m\u001b[0;34m:\u001b[0m\u001b[0;34m\u001b[0m\u001b[0;34m\u001b[0m\u001b[0m\n",
            "\u001b[0;32m<ipython-input-64-c4f55975f6f6>\u001b[0m in \u001b[0;36mget_completion\u001b[0;34m(prompt, model)\u001b[0m\n\u001b[1;32m     37\u001b[0m     \u001b[0mmessages\u001b[0m \u001b[0;34m=\u001b[0m \u001b[0;34m[\u001b[0m\u001b[0;34m{\u001b[0m\u001b[0;34m\"role\"\u001b[0m\u001b[0;34m:\u001b[0m \u001b[0;34m\"user\"\u001b[0m\u001b[0;34m,\u001b[0m \u001b[0;34m\"content\"\u001b[0m\u001b[0;34m:\u001b[0m \u001b[0mprompt\u001b[0m\u001b[0;34m}\u001b[0m\u001b[0;34m]\u001b[0m\u001b[0;34m\u001b[0m\u001b[0;34m\u001b[0m\u001b[0m\n\u001b[1;32m     38\u001b[0m     \u001b[0;32mif\u001b[0m \u001b[0mmodel\u001b[0m \u001b[0;34m==\u001b[0m \u001b[0;34m\"gpt-3.5-turbo\"\u001b[0m\u001b[0;34m:\u001b[0m\u001b[0;34m\u001b[0m\u001b[0;34m\u001b[0m\u001b[0m\n\u001b[0;32m---> 39\u001b[0;31m         response = openai.ChatCompletion.create(\n\u001b[0m\u001b[1;32m     40\u001b[0m             \u001b[0mmodel\u001b[0m\u001b[0;34m=\u001b[0m\u001b[0mmodel\u001b[0m\u001b[0;34m,\u001b[0m\u001b[0;34m\u001b[0m\u001b[0;34m\u001b[0m\u001b[0m\n\u001b[1;32m     41\u001b[0m             \u001b[0mmessages\u001b[0m\u001b[0;34m=\u001b[0m\u001b[0mmessages\u001b[0m\u001b[0;34m,\u001b[0m\u001b[0;34m\u001b[0m\u001b[0;34m\u001b[0m\u001b[0m\n",
            "\u001b[0;32m/usr/local/lib/python3.10/dist-packages/openai/api_resources/chat_completion.py\u001b[0m in \u001b[0;36mcreate\u001b[0;34m(cls, *args, **kwargs)\u001b[0m\n\u001b[1;32m     23\u001b[0m         \u001b[0;32mwhile\u001b[0m \u001b[0;32mTrue\u001b[0m\u001b[0;34m:\u001b[0m\u001b[0;34m\u001b[0m\u001b[0;34m\u001b[0m\u001b[0m\n\u001b[1;32m     24\u001b[0m             \u001b[0;32mtry\u001b[0m\u001b[0;34m:\u001b[0m\u001b[0;34m\u001b[0m\u001b[0;34m\u001b[0m\u001b[0m\n\u001b[0;32m---> 25\u001b[0;31m                 \u001b[0;32mreturn\u001b[0m \u001b[0msuper\u001b[0m\u001b[0;34m(\u001b[0m\u001b[0;34m)\u001b[0m\u001b[0;34m.\u001b[0m\u001b[0mcreate\u001b[0m\u001b[0;34m(\u001b[0m\u001b[0;34m*\u001b[0m\u001b[0margs\u001b[0m\u001b[0;34m,\u001b[0m \u001b[0;34m**\u001b[0m\u001b[0mkwargs\u001b[0m\u001b[0;34m)\u001b[0m\u001b[0;34m\u001b[0m\u001b[0;34m\u001b[0m\u001b[0m\n\u001b[0m\u001b[1;32m     26\u001b[0m             \u001b[0;32mexcept\u001b[0m \u001b[0mTryAgain\u001b[0m \u001b[0;32mas\u001b[0m \u001b[0me\u001b[0m\u001b[0;34m:\u001b[0m\u001b[0;34m\u001b[0m\u001b[0;34m\u001b[0m\u001b[0m\n\u001b[1;32m     27\u001b[0m                 \u001b[0;32mif\u001b[0m \u001b[0mtimeout\u001b[0m \u001b[0;32mis\u001b[0m \u001b[0;32mnot\u001b[0m \u001b[0;32mNone\u001b[0m \u001b[0;32mand\u001b[0m \u001b[0mtime\u001b[0m\u001b[0;34m.\u001b[0m\u001b[0mtime\u001b[0m\u001b[0;34m(\u001b[0m\u001b[0;34m)\u001b[0m \u001b[0;34m>\u001b[0m \u001b[0mstart\u001b[0m \u001b[0;34m+\u001b[0m \u001b[0mtimeout\u001b[0m\u001b[0;34m:\u001b[0m\u001b[0;34m\u001b[0m\u001b[0;34m\u001b[0m\u001b[0m\n",
            "\u001b[0;32m/usr/local/lib/python3.10/dist-packages/openai/api_resources/abstract/engine_api_resource.py\u001b[0m in \u001b[0;36mcreate\u001b[0;34m(cls, api_key, api_base, api_type, request_id, api_version, organization, **params)\u001b[0m\n\u001b[1;32m    151\u001b[0m         )\n\u001b[1;32m    152\u001b[0m \u001b[0;34m\u001b[0m\u001b[0m\n\u001b[0;32m--> 153\u001b[0;31m         response, _, api_key = requestor.request(\n\u001b[0m\u001b[1;32m    154\u001b[0m             \u001b[0;34m\"post\"\u001b[0m\u001b[0;34m,\u001b[0m\u001b[0;34m\u001b[0m\u001b[0;34m\u001b[0m\u001b[0m\n\u001b[1;32m    155\u001b[0m             \u001b[0murl\u001b[0m\u001b[0;34m,\u001b[0m\u001b[0;34m\u001b[0m\u001b[0;34m\u001b[0m\u001b[0m\n",
            "\u001b[0;32m/usr/local/lib/python3.10/dist-packages/openai/api_requestor.py\u001b[0m in \u001b[0;36mrequest\u001b[0;34m(self, method, url, params, headers, files, stream, request_id, request_timeout)\u001b[0m\n\u001b[1;32m    286\u001b[0m         \u001b[0mrequest_timeout\u001b[0m\u001b[0;34m:\u001b[0m \u001b[0mOptional\u001b[0m\u001b[0;34m[\u001b[0m\u001b[0mUnion\u001b[0m\u001b[0;34m[\u001b[0m\u001b[0mfloat\u001b[0m\u001b[0;34m,\u001b[0m \u001b[0mTuple\u001b[0m\u001b[0;34m[\u001b[0m\u001b[0mfloat\u001b[0m\u001b[0;34m,\u001b[0m \u001b[0mfloat\u001b[0m\u001b[0;34m]\u001b[0m\u001b[0;34m]\u001b[0m\u001b[0;34m]\u001b[0m \u001b[0;34m=\u001b[0m \u001b[0;32mNone\u001b[0m\u001b[0;34m,\u001b[0m\u001b[0;34m\u001b[0m\u001b[0;34m\u001b[0m\u001b[0m\n\u001b[1;32m    287\u001b[0m     ) -> Tuple[Union[OpenAIResponse, Iterator[OpenAIResponse]], bool, str]:\n\u001b[0;32m--> 288\u001b[0;31m         result = self.request_raw(\n\u001b[0m\u001b[1;32m    289\u001b[0m             \u001b[0mmethod\u001b[0m\u001b[0;34m.\u001b[0m\u001b[0mlower\u001b[0m\u001b[0;34m(\u001b[0m\u001b[0;34m)\u001b[0m\u001b[0;34m,\u001b[0m\u001b[0;34m\u001b[0m\u001b[0;34m\u001b[0m\u001b[0m\n\u001b[1;32m    290\u001b[0m             \u001b[0murl\u001b[0m\u001b[0;34m,\u001b[0m\u001b[0;34m\u001b[0m\u001b[0;34m\u001b[0m\u001b[0m\n",
            "\u001b[0;32m/usr/local/lib/python3.10/dist-packages/openai/api_requestor.py\u001b[0m in \u001b[0;36mrequest_raw\u001b[0;34m(self, method, url, params, supplied_headers, files, stream, request_id, request_timeout)\u001b[0m\n\u001b[1;32m    594\u001b[0m             \u001b[0m_thread_context\u001b[0m\u001b[0;34m.\u001b[0m\u001b[0msession_create_time\u001b[0m \u001b[0;34m=\u001b[0m \u001b[0mtime\u001b[0m\u001b[0;34m.\u001b[0m\u001b[0mtime\u001b[0m\u001b[0;34m(\u001b[0m\u001b[0;34m)\u001b[0m\u001b[0;34m\u001b[0m\u001b[0;34m\u001b[0m\u001b[0m\n\u001b[1;32m    595\u001b[0m         \u001b[0;32mtry\u001b[0m\u001b[0;34m:\u001b[0m\u001b[0;34m\u001b[0m\u001b[0;34m\u001b[0m\u001b[0m\n\u001b[0;32m--> 596\u001b[0;31m             result = _thread_context.session.request(\n\u001b[0m\u001b[1;32m    597\u001b[0m                 \u001b[0mmethod\u001b[0m\u001b[0;34m,\u001b[0m\u001b[0;34m\u001b[0m\u001b[0;34m\u001b[0m\u001b[0m\n\u001b[1;32m    598\u001b[0m                 \u001b[0mabs_url\u001b[0m\u001b[0;34m,\u001b[0m\u001b[0;34m\u001b[0m\u001b[0;34m\u001b[0m\u001b[0m\n",
            "\u001b[0;32m/usr/local/lib/python3.10/dist-packages/requests/sessions.py\u001b[0m in \u001b[0;36mrequest\u001b[0;34m(self, method, url, params, data, headers, cookies, files, auth, timeout, allow_redirects, proxies, hooks, stream, verify, cert, json)\u001b[0m\n\u001b[1;32m    527\u001b[0m         }\n\u001b[1;32m    528\u001b[0m         \u001b[0msend_kwargs\u001b[0m\u001b[0;34m.\u001b[0m\u001b[0mupdate\u001b[0m\u001b[0;34m(\u001b[0m\u001b[0msettings\u001b[0m\u001b[0;34m)\u001b[0m\u001b[0;34m\u001b[0m\u001b[0;34m\u001b[0m\u001b[0m\n\u001b[0;32m--> 529\u001b[0;31m         \u001b[0mresp\u001b[0m \u001b[0;34m=\u001b[0m \u001b[0mself\u001b[0m\u001b[0;34m.\u001b[0m\u001b[0msend\u001b[0m\u001b[0;34m(\u001b[0m\u001b[0mprep\u001b[0m\u001b[0;34m,\u001b[0m \u001b[0;34m**\u001b[0m\u001b[0msend_kwargs\u001b[0m\u001b[0;34m)\u001b[0m\u001b[0;34m\u001b[0m\u001b[0;34m\u001b[0m\u001b[0m\n\u001b[0m\u001b[1;32m    530\u001b[0m \u001b[0;34m\u001b[0m\u001b[0m\n\u001b[1;32m    531\u001b[0m         \u001b[0;32mreturn\u001b[0m \u001b[0mresp\u001b[0m\u001b[0;34m\u001b[0m\u001b[0;34m\u001b[0m\u001b[0m\n",
            "\u001b[0;32m/usr/local/lib/python3.10/dist-packages/requests/sessions.py\u001b[0m in \u001b[0;36msend\u001b[0;34m(self, request, **kwargs)\u001b[0m\n\u001b[1;32m    643\u001b[0m \u001b[0;34m\u001b[0m\u001b[0m\n\u001b[1;32m    644\u001b[0m         \u001b[0;31m# Send the request\u001b[0m\u001b[0;34m\u001b[0m\u001b[0;34m\u001b[0m\u001b[0m\n\u001b[0;32m--> 645\u001b[0;31m         \u001b[0mr\u001b[0m \u001b[0;34m=\u001b[0m \u001b[0madapter\u001b[0m\u001b[0;34m.\u001b[0m\u001b[0msend\u001b[0m\u001b[0;34m(\u001b[0m\u001b[0mrequest\u001b[0m\u001b[0;34m,\u001b[0m \u001b[0;34m**\u001b[0m\u001b[0mkwargs\u001b[0m\u001b[0;34m)\u001b[0m\u001b[0;34m\u001b[0m\u001b[0;34m\u001b[0m\u001b[0m\n\u001b[0m\u001b[1;32m    646\u001b[0m \u001b[0;34m\u001b[0m\u001b[0m\n\u001b[1;32m    647\u001b[0m         \u001b[0;31m# Total elapsed time of the request (approximately)\u001b[0m\u001b[0;34m\u001b[0m\u001b[0;34m\u001b[0m\u001b[0m\n",
            "\u001b[0;32m/usr/local/lib/python3.10/dist-packages/requests/adapters.py\u001b[0m in \u001b[0;36msend\u001b[0;34m(self, request, stream, timeout, verify, cert, proxies)\u001b[0m\n\u001b[1;32m    438\u001b[0m         \u001b[0;32mtry\u001b[0m\u001b[0;34m:\u001b[0m\u001b[0;34m\u001b[0m\u001b[0;34m\u001b[0m\u001b[0m\n\u001b[1;32m    439\u001b[0m             \u001b[0;32mif\u001b[0m \u001b[0;32mnot\u001b[0m \u001b[0mchunked\u001b[0m\u001b[0;34m:\u001b[0m\u001b[0;34m\u001b[0m\u001b[0;34m\u001b[0m\u001b[0m\n\u001b[0;32m--> 440\u001b[0;31m                 resp = conn.urlopen(\n\u001b[0m\u001b[1;32m    441\u001b[0m                     \u001b[0mmethod\u001b[0m\u001b[0;34m=\u001b[0m\u001b[0mrequest\u001b[0m\u001b[0;34m.\u001b[0m\u001b[0mmethod\u001b[0m\u001b[0;34m,\u001b[0m\u001b[0;34m\u001b[0m\u001b[0;34m\u001b[0m\u001b[0m\n\u001b[1;32m    442\u001b[0m                     \u001b[0murl\u001b[0m\u001b[0;34m=\u001b[0m\u001b[0murl\u001b[0m\u001b[0;34m,\u001b[0m\u001b[0;34m\u001b[0m\u001b[0;34m\u001b[0m\u001b[0m\n",
            "\u001b[0;32m/usr/local/lib/python3.10/dist-packages/urllib3/connectionpool.py\u001b[0m in \u001b[0;36murlopen\u001b[0;34m(self, method, url, body, headers, retries, redirect, assert_same_host, timeout, pool_timeout, release_conn, chunked, body_pos, **response_kw)\u001b[0m\n\u001b[1;32m    701\u001b[0m \u001b[0;34m\u001b[0m\u001b[0m\n\u001b[1;32m    702\u001b[0m             \u001b[0;31m# Make the request on the httplib connection object.\u001b[0m\u001b[0;34m\u001b[0m\u001b[0;34m\u001b[0m\u001b[0m\n\u001b[0;32m--> 703\u001b[0;31m             httplib_response = self._make_request(\n\u001b[0m\u001b[1;32m    704\u001b[0m                 \u001b[0mconn\u001b[0m\u001b[0;34m,\u001b[0m\u001b[0;34m\u001b[0m\u001b[0;34m\u001b[0m\u001b[0m\n\u001b[1;32m    705\u001b[0m                 \u001b[0mmethod\u001b[0m\u001b[0;34m,\u001b[0m\u001b[0;34m\u001b[0m\u001b[0;34m\u001b[0m\u001b[0m\n",
            "\u001b[0;32m/usr/local/lib/python3.10/dist-packages/urllib3/connectionpool.py\u001b[0m in \u001b[0;36m_make_request\u001b[0;34m(self, conn, method, url, timeout, chunked, **httplib_request_kw)\u001b[0m\n\u001b[1;32m    447\u001b[0m                     \u001b[0;31m# Python 3 (including for exceptions like SystemExit).\u001b[0m\u001b[0;34m\u001b[0m\u001b[0;34m\u001b[0m\u001b[0m\n\u001b[1;32m    448\u001b[0m                     \u001b[0;31m# Otherwise it looks like a bug in the code.\u001b[0m\u001b[0;34m\u001b[0m\u001b[0;34m\u001b[0m\u001b[0m\n\u001b[0;32m--> 449\u001b[0;31m                     \u001b[0msix\u001b[0m\u001b[0;34m.\u001b[0m\u001b[0mraise_from\u001b[0m\u001b[0;34m(\u001b[0m\u001b[0me\u001b[0m\u001b[0;34m,\u001b[0m \u001b[0;32mNone\u001b[0m\u001b[0;34m)\u001b[0m\u001b[0;34m\u001b[0m\u001b[0;34m\u001b[0m\u001b[0m\n\u001b[0m\u001b[1;32m    450\u001b[0m         \u001b[0;32mexcept\u001b[0m \u001b[0;34m(\u001b[0m\u001b[0mSocketTimeout\u001b[0m\u001b[0;34m,\u001b[0m \u001b[0mBaseSSLError\u001b[0m\u001b[0;34m,\u001b[0m \u001b[0mSocketError\u001b[0m\u001b[0;34m)\u001b[0m \u001b[0;32mas\u001b[0m \u001b[0me\u001b[0m\u001b[0;34m:\u001b[0m\u001b[0;34m\u001b[0m\u001b[0;34m\u001b[0m\u001b[0m\n\u001b[1;32m    451\u001b[0m             \u001b[0mself\u001b[0m\u001b[0;34m.\u001b[0m\u001b[0m_raise_timeout\u001b[0m\u001b[0;34m(\u001b[0m\u001b[0merr\u001b[0m\u001b[0;34m=\u001b[0m\u001b[0me\u001b[0m\u001b[0;34m,\u001b[0m \u001b[0murl\u001b[0m\u001b[0;34m=\u001b[0m\u001b[0murl\u001b[0m\u001b[0;34m,\u001b[0m \u001b[0mtimeout_value\u001b[0m\u001b[0;34m=\u001b[0m\u001b[0mread_timeout\u001b[0m\u001b[0;34m)\u001b[0m\u001b[0;34m\u001b[0m\u001b[0;34m\u001b[0m\u001b[0m\n",
            "\u001b[0;32m/usr/local/lib/python3.10/dist-packages/urllib3/packages/six.py\u001b[0m in \u001b[0;36mraise_from\u001b[0;34m(value, from_value)\u001b[0m\n",
            "\u001b[0;32m/usr/local/lib/python3.10/dist-packages/urllib3/connectionpool.py\u001b[0m in \u001b[0;36m_make_request\u001b[0;34m(self, conn, method, url, timeout, chunked, **httplib_request_kw)\u001b[0m\n\u001b[1;32m    442\u001b[0m                 \u001b[0;31m# Python 3\u001b[0m\u001b[0;34m\u001b[0m\u001b[0;34m\u001b[0m\u001b[0m\n\u001b[1;32m    443\u001b[0m                 \u001b[0;32mtry\u001b[0m\u001b[0;34m:\u001b[0m\u001b[0;34m\u001b[0m\u001b[0;34m\u001b[0m\u001b[0m\n\u001b[0;32m--> 444\u001b[0;31m                     \u001b[0mhttplib_response\u001b[0m \u001b[0;34m=\u001b[0m \u001b[0mconn\u001b[0m\u001b[0;34m.\u001b[0m\u001b[0mgetresponse\u001b[0m\u001b[0;34m(\u001b[0m\u001b[0;34m)\u001b[0m\u001b[0;34m\u001b[0m\u001b[0;34m\u001b[0m\u001b[0m\n\u001b[0m\u001b[1;32m    445\u001b[0m                 \u001b[0;32mexcept\u001b[0m \u001b[0mBaseException\u001b[0m \u001b[0;32mas\u001b[0m \u001b[0me\u001b[0m\u001b[0;34m:\u001b[0m\u001b[0;34m\u001b[0m\u001b[0;34m\u001b[0m\u001b[0m\n\u001b[1;32m    446\u001b[0m                     \u001b[0;31m# Remove the TypeError from the exception chain in\u001b[0m\u001b[0;34m\u001b[0m\u001b[0;34m\u001b[0m\u001b[0m\n",
            "\u001b[0;32m/usr/lib/python3.10/http/client.py\u001b[0m in \u001b[0;36mgetresponse\u001b[0;34m(self)\u001b[0m\n\u001b[1;32m   1373\u001b[0m         \u001b[0;32mtry\u001b[0m\u001b[0;34m:\u001b[0m\u001b[0;34m\u001b[0m\u001b[0;34m\u001b[0m\u001b[0m\n\u001b[1;32m   1374\u001b[0m             \u001b[0;32mtry\u001b[0m\u001b[0;34m:\u001b[0m\u001b[0;34m\u001b[0m\u001b[0;34m\u001b[0m\u001b[0m\n\u001b[0;32m-> 1375\u001b[0;31m                 \u001b[0mresponse\u001b[0m\u001b[0;34m.\u001b[0m\u001b[0mbegin\u001b[0m\u001b[0;34m(\u001b[0m\u001b[0;34m)\u001b[0m\u001b[0;34m\u001b[0m\u001b[0;34m\u001b[0m\u001b[0m\n\u001b[0m\u001b[1;32m   1376\u001b[0m             \u001b[0;32mexcept\u001b[0m \u001b[0mConnectionError\u001b[0m\u001b[0;34m:\u001b[0m\u001b[0;34m\u001b[0m\u001b[0;34m\u001b[0m\u001b[0m\n\u001b[1;32m   1377\u001b[0m                 \u001b[0mself\u001b[0m\u001b[0;34m.\u001b[0m\u001b[0mclose\u001b[0m\u001b[0;34m(\u001b[0m\u001b[0;34m)\u001b[0m\u001b[0;34m\u001b[0m\u001b[0;34m\u001b[0m\u001b[0m\n",
            "\u001b[0;32m/usr/lib/python3.10/http/client.py\u001b[0m in \u001b[0;36mbegin\u001b[0;34m(self)\u001b[0m\n\u001b[1;32m    316\u001b[0m         \u001b[0;31m# read until we get a non-100 response\u001b[0m\u001b[0;34m\u001b[0m\u001b[0;34m\u001b[0m\u001b[0m\n\u001b[1;32m    317\u001b[0m         \u001b[0;32mwhile\u001b[0m \u001b[0;32mTrue\u001b[0m\u001b[0;34m:\u001b[0m\u001b[0;34m\u001b[0m\u001b[0;34m\u001b[0m\u001b[0m\n\u001b[0;32m--> 318\u001b[0;31m             \u001b[0mversion\u001b[0m\u001b[0;34m,\u001b[0m \u001b[0mstatus\u001b[0m\u001b[0;34m,\u001b[0m \u001b[0mreason\u001b[0m \u001b[0;34m=\u001b[0m \u001b[0mself\u001b[0m\u001b[0;34m.\u001b[0m\u001b[0m_read_status\u001b[0m\u001b[0;34m(\u001b[0m\u001b[0;34m)\u001b[0m\u001b[0;34m\u001b[0m\u001b[0;34m\u001b[0m\u001b[0m\n\u001b[0m\u001b[1;32m    319\u001b[0m             \u001b[0;32mif\u001b[0m \u001b[0mstatus\u001b[0m \u001b[0;34m!=\u001b[0m \u001b[0mCONTINUE\u001b[0m\u001b[0;34m:\u001b[0m\u001b[0;34m\u001b[0m\u001b[0;34m\u001b[0m\u001b[0m\n\u001b[1;32m    320\u001b[0m                 \u001b[0;32mbreak\u001b[0m\u001b[0;34m\u001b[0m\u001b[0;34m\u001b[0m\u001b[0m\n",
            "\u001b[0;32m/usr/lib/python3.10/http/client.py\u001b[0m in \u001b[0;36m_read_status\u001b[0;34m(self)\u001b[0m\n\u001b[1;32m    277\u001b[0m \u001b[0;34m\u001b[0m\u001b[0m\n\u001b[1;32m    278\u001b[0m     \u001b[0;32mdef\u001b[0m \u001b[0m_read_status\u001b[0m\u001b[0;34m(\u001b[0m\u001b[0mself\u001b[0m\u001b[0;34m)\u001b[0m\u001b[0;34m:\u001b[0m\u001b[0;34m\u001b[0m\u001b[0;34m\u001b[0m\u001b[0m\n\u001b[0;32m--> 279\u001b[0;31m         \u001b[0mline\u001b[0m \u001b[0;34m=\u001b[0m \u001b[0mstr\u001b[0m\u001b[0;34m(\u001b[0m\u001b[0mself\u001b[0m\u001b[0;34m.\u001b[0m\u001b[0mfp\u001b[0m\u001b[0;34m.\u001b[0m\u001b[0mreadline\u001b[0m\u001b[0;34m(\u001b[0m\u001b[0m_MAXLINE\u001b[0m \u001b[0;34m+\u001b[0m \u001b[0;36m1\u001b[0m\u001b[0;34m)\u001b[0m\u001b[0;34m,\u001b[0m \u001b[0;34m\"iso-8859-1\"\u001b[0m\u001b[0;34m)\u001b[0m\u001b[0;34m\u001b[0m\u001b[0;34m\u001b[0m\u001b[0m\n\u001b[0m\u001b[1;32m    280\u001b[0m         \u001b[0;32mif\u001b[0m \u001b[0mlen\u001b[0m\u001b[0;34m(\u001b[0m\u001b[0mline\u001b[0m\u001b[0;34m)\u001b[0m \u001b[0;34m>\u001b[0m \u001b[0m_MAXLINE\u001b[0m\u001b[0;34m:\u001b[0m\u001b[0;34m\u001b[0m\u001b[0;34m\u001b[0m\u001b[0m\n\u001b[1;32m    281\u001b[0m             \u001b[0;32mraise\u001b[0m \u001b[0mLineTooLong\u001b[0m\u001b[0;34m(\u001b[0m\u001b[0;34m\"status line\"\u001b[0m\u001b[0;34m)\u001b[0m\u001b[0;34m\u001b[0m\u001b[0;34m\u001b[0m\u001b[0m\n",
            "\u001b[0;32m/usr/lib/python3.10/socket.py\u001b[0m in \u001b[0;36mreadinto\u001b[0;34m(self, b)\u001b[0m\n\u001b[1;32m    703\u001b[0m         \u001b[0;32mwhile\u001b[0m \u001b[0;32mTrue\u001b[0m\u001b[0;34m:\u001b[0m\u001b[0;34m\u001b[0m\u001b[0;34m\u001b[0m\u001b[0m\n\u001b[1;32m    704\u001b[0m             \u001b[0;32mtry\u001b[0m\u001b[0;34m:\u001b[0m\u001b[0;34m\u001b[0m\u001b[0;34m\u001b[0m\u001b[0m\n\u001b[0;32m--> 705\u001b[0;31m                 \u001b[0;32mreturn\u001b[0m \u001b[0mself\u001b[0m\u001b[0;34m.\u001b[0m\u001b[0m_sock\u001b[0m\u001b[0;34m.\u001b[0m\u001b[0mrecv_into\u001b[0m\u001b[0;34m(\u001b[0m\u001b[0mb\u001b[0m\u001b[0;34m)\u001b[0m\u001b[0;34m\u001b[0m\u001b[0;34m\u001b[0m\u001b[0m\n\u001b[0m\u001b[1;32m    706\u001b[0m             \u001b[0;32mexcept\u001b[0m \u001b[0mtimeout\u001b[0m\u001b[0;34m:\u001b[0m\u001b[0;34m\u001b[0m\u001b[0;34m\u001b[0m\u001b[0m\n\u001b[1;32m    707\u001b[0m                 \u001b[0mself\u001b[0m\u001b[0;34m.\u001b[0m\u001b[0m_timeout_occurred\u001b[0m \u001b[0;34m=\u001b[0m \u001b[0;32mTrue\u001b[0m\u001b[0;34m\u001b[0m\u001b[0;34m\u001b[0m\u001b[0m\n",
            "\u001b[0;32m/usr/lib/python3.10/ssl.py\u001b[0m in \u001b[0;36mrecv_into\u001b[0;34m(self, buffer, nbytes, flags)\u001b[0m\n\u001b[1;32m   1272\u001b[0m                   \u001b[0;34m\"non-zero flags not allowed in calls to recv_into() on %s\"\u001b[0m \u001b[0;34m%\u001b[0m\u001b[0;34m\u001b[0m\u001b[0;34m\u001b[0m\u001b[0m\n\u001b[1;32m   1273\u001b[0m                   self.__class__)\n\u001b[0;32m-> 1274\u001b[0;31m             \u001b[0;32mreturn\u001b[0m \u001b[0mself\u001b[0m\u001b[0;34m.\u001b[0m\u001b[0mread\u001b[0m\u001b[0;34m(\u001b[0m\u001b[0mnbytes\u001b[0m\u001b[0;34m,\u001b[0m \u001b[0mbuffer\u001b[0m\u001b[0;34m)\u001b[0m\u001b[0;34m\u001b[0m\u001b[0;34m\u001b[0m\u001b[0m\n\u001b[0m\u001b[1;32m   1275\u001b[0m         \u001b[0;32melse\u001b[0m\u001b[0;34m:\u001b[0m\u001b[0;34m\u001b[0m\u001b[0;34m\u001b[0m\u001b[0m\n\u001b[1;32m   1276\u001b[0m             \u001b[0;32mreturn\u001b[0m \u001b[0msuper\u001b[0m\u001b[0;34m(\u001b[0m\u001b[0;34m)\u001b[0m\u001b[0;34m.\u001b[0m\u001b[0mrecv_into\u001b[0m\u001b[0;34m(\u001b[0m\u001b[0mbuffer\u001b[0m\u001b[0;34m,\u001b[0m \u001b[0mnbytes\u001b[0m\u001b[0;34m,\u001b[0m \u001b[0mflags\u001b[0m\u001b[0;34m)\u001b[0m\u001b[0;34m\u001b[0m\u001b[0;34m\u001b[0m\u001b[0m\n",
            "\u001b[0;32m/usr/lib/python3.10/ssl.py\u001b[0m in \u001b[0;36mread\u001b[0;34m(self, len, buffer)\u001b[0m\n\u001b[1;32m   1128\u001b[0m         \u001b[0;32mtry\u001b[0m\u001b[0;34m:\u001b[0m\u001b[0;34m\u001b[0m\u001b[0;34m\u001b[0m\u001b[0m\n\u001b[1;32m   1129\u001b[0m             \u001b[0;32mif\u001b[0m \u001b[0mbuffer\u001b[0m \u001b[0;32mis\u001b[0m \u001b[0;32mnot\u001b[0m \u001b[0;32mNone\u001b[0m\u001b[0;34m:\u001b[0m\u001b[0;34m\u001b[0m\u001b[0;34m\u001b[0m\u001b[0m\n\u001b[0;32m-> 1130\u001b[0;31m                 \u001b[0;32mreturn\u001b[0m \u001b[0mself\u001b[0m\u001b[0;34m.\u001b[0m\u001b[0m_sslobj\u001b[0m\u001b[0;34m.\u001b[0m\u001b[0mread\u001b[0m\u001b[0;34m(\u001b[0m\u001b[0mlen\u001b[0m\u001b[0;34m,\u001b[0m \u001b[0mbuffer\u001b[0m\u001b[0;34m)\u001b[0m\u001b[0;34m\u001b[0m\u001b[0;34m\u001b[0m\u001b[0m\n\u001b[0m\u001b[1;32m   1131\u001b[0m             \u001b[0;32melse\u001b[0m\u001b[0;34m:\u001b[0m\u001b[0;34m\u001b[0m\u001b[0;34m\u001b[0m\u001b[0m\n\u001b[1;32m   1132\u001b[0m                 \u001b[0;32mreturn\u001b[0m \u001b[0mself\u001b[0m\u001b[0;34m.\u001b[0m\u001b[0m_sslobj\u001b[0m\u001b[0;34m.\u001b[0m\u001b[0mread\u001b[0m\u001b[0;34m(\u001b[0m\u001b[0mlen\u001b[0m\u001b[0;34m)\u001b[0m\u001b[0;34m\u001b[0m\u001b[0;34m\u001b[0m\u001b[0m\n",
            "\u001b[0;31mKeyboardInterrupt\u001b[0m: "
          ]
        }
      ]
    },
    {
      "cell_type": "code",
      "execution_count": 14,
      "id": "b611258f",
      "metadata": {
        "id": "b611258f",
        "colab": {
          "base_uri": "https://localhost:8080/"
        },
        "outputId": "6a77bd29-c372-4d35-a759-cd33ae100647"
      },
      "outputs": [
        {
          "output_type": "stream",
          "name": "stdout",
          "text": [
            "{\"sentiment\":\"positive\", \"stock_target\":\"台積電\"}\n"
          ]
        }
      ],
      "source": [
        "review = \"今天的台積電要起飛了\"\n",
        "\n",
        "def sentiment_prompt(review):\n",
        "    return f\"\"\"\n",
        "在雙引號中的金融評論，針對的'標的'以及'情緒'是什麼?\n",
        "並同時說明，是哪些'文字'，來判斷最後的情緒結果。\n",
        "\n",
        "用'正面'、'中性'或'負面'來表示情緒。\n",
        "請用JSON格式回答\n",
        "金融評論：\"{review}\"\n",
        "\"\"\"\n",
        "\n",
        "prompt = sentiment_prompt_chinese(review)\n",
        "print(get_completion(prompt))"
      ]
    },
    {
      "cell_type": "code",
      "source": [
        "!pip install tiktoken"
      ],
      "metadata": {
        "colab": {
          "base_uri": "https://localhost:8080/"
        },
        "id": "eBCMAyk7o5PH",
        "outputId": "49a5306d-b512-439a-e936-c5aea8edd000"
      },
      "id": "eBCMAyk7o5PH",
      "execution_count": null,
      "outputs": [
        {
          "output_type": "stream",
          "name": "stdout",
          "text": [
            "Looking in indexes: https://pypi.org/simple, https://us-python.pkg.dev/colab-wheels/public/simple/\n",
            "Collecting tiktoken\n",
            "  Downloading tiktoken-0.4.0-cp310-cp310-manylinux_2_17_x86_64.manylinux2014_x86_64.whl (1.7 MB)\n",
            "\u001b[2K     \u001b[90m━━━━━━━━━━━━━━━━━━━━━━━━━━━━━━━━━━━━━━━━\u001b[0m \u001b[32m1.7/1.7 MB\u001b[0m \u001b[31m12.1 MB/s\u001b[0m eta \u001b[36m0:00:00\u001b[0m\n",
            "\u001b[?25hRequirement already satisfied: regex>=2022.1.18 in /usr/local/lib/python3.10/dist-packages (from tiktoken) (2022.10.31)\n",
            "Requirement already satisfied: requests>=2.26.0 in /usr/local/lib/python3.10/dist-packages (from tiktoken) (2.27.1)\n",
            "Requirement already satisfied: urllib3<1.27,>=1.21.1 in /usr/local/lib/python3.10/dist-packages (from requests>=2.26.0->tiktoken) (1.26.15)\n",
            "Requirement already satisfied: certifi>=2017.4.17 in /usr/local/lib/python3.10/dist-packages (from requests>=2.26.0->tiktoken) (2022.12.7)\n",
            "Requirement already satisfied: charset-normalizer~=2.0.0 in /usr/local/lib/python3.10/dist-packages (from requests>=2.26.0->tiktoken) (2.0.12)\n",
            "Requirement already satisfied: idna<4,>=2.5 in /usr/local/lib/python3.10/dist-packages (from requests>=2.26.0->tiktoken) (3.4)\n",
            "Installing collected packages: tiktoken\n",
            "Successfully installed tiktoken-0.4.0\n"
          ]
        }
      ]
    },
    {
      "cell_type": "markdown",
      "id": "a5d1ea5e",
      "metadata": {
        "id": "a5d1ea5e"
      },
      "source": [
        "## 計算 tokens 與估算花費\n",
        "\n",
        "- GPT-3.5 為 1K tokens \\$0.002\n",
        "- GPT-3.0 的 Davinci 為 1K tokens \\$0.02\n",
        "- GPT-3.0 的 Curie 為 1K tokens \\$0.002\n",
        "\n",
        "GPT-3.0 可自行訓練，然而3.5無法，3.5 的結果可以逼近訓練過後的 3.0"
      ]
    },
    {
      "cell_type": "code",
      "execution_count": null,
      "id": "4135753d",
      "metadata": {
        "id": "4135753d",
        "colab": {
          "base_uri": "https://localhost:8080/"
        },
        "outputId": "2dca8b9e-cafa-43ab-d075-b41c803b9a38"
      },
      "outputs": [
        {
          "output_type": "stream",
          "name": "stdout",
          "text": [
            "233\n",
            "243\n",
            "248\n",
            "240\n",
            "240\n",
            "254\n",
            "239\n",
            "239\n",
            "243\n",
            "240\n",
            "0.14838146\n"
          ]
        }
      ],
      "source": [
        "import tiktoken\n",
        "import requests\n",
        "import json\n",
        "\n",
        "\n",
        "def num_tokens_from_string(string):\n",
        "    \"\"\"Returns the number of tokens in a text string.\"\"\"\n",
        "    encoding = tiktoken.encoding_for_model(\"gpt-3.5-turbo\")\n",
        "    num_tokens = len(encoding.encode(string))\n",
        "    return num_tokens\n",
        "\n",
        "paid = 0\n",
        "for prompt in prompts:\n",
        "    tokens_per_message = 4\n",
        "    tokens = num_tokens_from_string(prompt) + tokens_per_message\n",
        "    print(tokens)\n",
        "    r = requests.get(\"https://api.exchangerate-api.com/v4/latest/USD\")\n",
        "    tw_us_rate = json.loads(r.text)[\"rates\"][\"TWD\"]\n",
        "    paids_in_tw = tokens / 1000 * 0.002 * tw_us_rate\n",
        "    paid += paids_in_tw\n",
        "print(paid)"
      ]
    },
    {
      "cell_type": "code",
      "execution_count": null,
      "id": "38f3ecb6",
      "metadata": {
        "id": "38f3ecb6"
      },
      "outputs": [],
      "source": []
    },
    {
      "cell_type": "code",
      "execution_count": null,
      "id": "8654a963",
      "metadata": {
        "id": "8654a963"
      },
      "outputs": [],
      "source": [
        "stock_market_chat = [\"今天的台積電要起飛了\", \"0050 帶頭衝衝衝\", \"發哥今天是不是軟軟的\"]\n",
        "\n",
        "def sentiment_three_prompt(stock_market_chat):\n",
        "    return f\"\"\"\n",
        "    Analyze the sentiment of the following stock market chats.\n",
        "    Each chat is enclosed within angle brackets and the entire conversation is contained within triple backticks.\n",
        "    Your answer is a single word, either \"positive\" or \"negative\" or \"neutral\".\n",
        "    If stock market target is not mentioned in the chat set the sentiment answer to \"neutral\",\n",
        "    otherwise, please list it in chinese, stock code or code name.\n",
        "\n",
        "    Provide above answers in JSON format with keys for three chats separated by angle brackets, respectively:\n",
        "    sentiment, stock_target.\n",
        "    And Follow the format:\n",
        "    {{\n",
        "        \"chat1\":{{\"sentiment\":..., \"stock_target\":...}},\n",
        "        \"chat2\":{{\"sentiment\":..., \"stock_target\":...}},\n",
        "        \"chat3\":{{\"sentiment\":..., \"stock_target\":...}}\n",
        "\n",
        "    }}\n",
        "    Stock_market_chat text: <{stock_market_chat[0]}>, <{stock_market_chat[1]}>, <{stock_market_chat[2]}>\n",
        "    \"\"\"\n",
        "\n",
        "def sentiment_single_prompt(chat):\n",
        "    return f\"\"\"\n",
        "    Analyze the sentiment of the following stock market chat.\n",
        "    Chat text is enclosed within angle brackets.\n",
        "    Your answer is a single word, either \"positive\" or \"negative\" or \"neutral\".\n",
        "    If stock market target is not mentioned in the chat set the sentiment answer to \"neutral\",\n",
        "    otherwise, please list it in chinese, stock code or code name.\n",
        "\n",
        "    Provide above answers in JSON format with keys, respectively:\n",
        "    sentiment, stock_target.\n",
        "    And Follow the format:\n",
        "\n",
        "    {{\"sentiment\":..., \"stock_target\":...}}\n",
        "\n",
        "    Stock_market_chat text: <{chat}>\n",
        "    \"\"\"\n",
        "\n",
        "prompt = sentiment_prompt(stock_market_chat[0])"
      ]
    },
    {
      "cell_type": "code",
      "execution_count": null,
      "id": "ac4688e8",
      "metadata": {
        "id": "ac4688e8"
      },
      "outputs": [],
      "source": [
        "def sentiment_multiple_prompt(stock_market_chat):\n",
        "    return f\"\"\"\n",
        "    Analyze the sentiment of the following series of stock market chats.\n",
        "    Each chats accompanied by a corresponding number,\n",
        "    and the entire collection of the series chats is enclosed within triple backticks.\n",
        "    Your answer is a single word, either \"positive\" or \"negative\" or \"neutral\".\n",
        "    If stock market target is not mentioned in the chat set the sentiment answer to \"neutral\",\n",
        "    otherwise, please list it in chinese, stock code or code name.\n",
        "\n",
        "    Provide above answers in JSON format which cloud convert to Pandas DataFrame directly with keys for the series chats separated by angle brackets, respectively:\n",
        "    sentiment, stock_target.\n",
        "\n",
        "    And Follow the format:\n",
        "    [\n",
        "        the corresponding number :{{\"sentiment\":..., \"stock_target\":...}},\n",
        "        the corresponding number :{{\"sentiment\":..., \"stock_target\":...}},\n",
        "        the corresponding number :{{\"sentiment\":..., \"stock_target\":...}},\n",
        "        ...\n",
        "    ]\n",
        "\n",
        "    Stock_market_chat text: {stock_market_chat}\n",
        "    Please note, it is essential to adhere to the rules specified by the JSON formats and values.\n",
        "    \"\"\"\n",
        "\n",
        "prompt = sentiment_prompt2(pd.DataFrame(df.Pushes[0]).Content)\n",
        "print(prompt)"
      ]
    },
    {
      "cell_type": "code",
      "execution_count": null,
      "id": "b0f7c622",
      "metadata": {
        "id": "b0f7c622"
      },
      "outputs": [],
      "source": []
    },
    {
      "cell_type": "code",
      "execution_count": null,
      "id": "8fcfccf1",
      "metadata": {
        "id": "8fcfccf1"
      },
      "outputs": [],
      "source": []
    },
    {
      "cell_type": "code",
      "execution_count": null,
      "id": "1f982b5e",
      "metadata": {
        "id": "1f982b5e"
      },
      "outputs": [],
      "source": []
    },
    {
      "cell_type": "code",
      "execution_count": null,
      "id": "9695982a",
      "metadata": {
        "id": "9695982a"
      },
      "outputs": [],
      "source": []
    }
  ],
  "metadata": {
    "kernelspec": {
      "display_name": "openai",
      "language": "python",
      "name": "openai"
    },
    "language_info": {
      "codemirror_mode": {
        "name": "ipython",
        "version": 3
      },
      "file_extension": ".py",
      "mimetype": "text/x-python",
      "name": "python",
      "nbconvert_exporter": "python",
      "pygments_lexer": "ipython3",
      "version": "3.9.12"
    },
    "colab": {
      "provenance": []
    }
  },
  "nbformat": 4,
  "nbformat_minor": 5
}
