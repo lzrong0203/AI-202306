{
 "cells": [
  {
   "cell_type": "code",
   "execution_count": null,
   "id": "efa226d7",
   "metadata": {},
   "outputs": [],
   "source": [
    "import numpy as np\n",
    "from scipy.optimize import minimize\n",
    "\n",
    "# 假設有三種資產，每種資產的預期年化收益率如下\n",
    "expected_returns = np.array([0.1, 0.2, 0.15])\n",
    "\n",
    "# 資產間的協方差矩陣\n",
    "covariance_matrix = np.array([\n",
    "    [0.1, 0.032, 0.04],\n",
    "    [0.032, 0.09, 0.002],\n",
    "    [0.04, 0.002, 0.08]\n",
    "])\n",
    "\n",
    "# 無風險利率\n",
    "risk_free_rate = 0.03\n",
    "\n",
    "# 計算夏普比率的負值（因為我們要最大化夏普比率，而優化函數默認是最小化目標函數）\n",
    "def negative_sharpe(weights):\n",
    "    port_return = np.dot(weights, expected_returns)\n",
    "    port_volatility = np.sqrt(np.dot(weights.T, np.dot(covariance_matrix, weights)))\n",
    "    return -(port_return - risk_free_rate) / port_volatility\n",
    "\n",
    "# 初始權重（均勻分佈）\n",
    "initial_weights = [1./3, 1./3, 1./3]\n",
    "\n",
    "# 約束條件\n",
    "constraints = ({'type': 'eq', 'fun': lambda weights: np.sum(weights) - 1})\n",
    "\n",
    "# 權重範圍\n",
    "boundaries = tuple((0, 1) for asset in range(len(initial_weights)))\n",
    "\n",
    "# 最優化計算\n",
    "solution = minimize(negative_sharpe, initial_weights, method='SLSQP', bounds=boundaries, constraints=constraints)\n",
    "\n",
    "# 最優投資組合的權重\n",
    "optimal_weights = solution.x\n",
    "\n",
    "# 最優夏普比率（注意由於我們最小化了負值，所以這裡要取反）\n",
    "optimal_sharpe = -solution.fun\n",
    "\n",
    "print(f\"Optimal Weights: {optimal_weights}\")\n",
    "print(f\"Optimal Sharpe Ratio: {optimal_sharpe}\")\n"
   ]
  },
  {
   "cell_type": "code",
   "execution_count": null,
   "id": "2e1eef24",
   "metadata": {},
   "outputs": [],
   "source": []
  }
 ],
 "metadata": {
  "kernelspec": {
   "display_name": "Python 3 (ipykernel)",
   "language": "python",
   "name": "python3"
  },
  "language_info": {
   "codemirror_mode": {
    "name": "ipython",
    "version": 3
   },
   "file_extension": ".py",
   "mimetype": "text/x-python",
   "name": "python",
   "nbconvert_exporter": "python",
   "pygments_lexer": "ipython3",
   "version": "3.11.4"
  }
 },
 "nbformat": 4,
 "nbformat_minor": 5
}
